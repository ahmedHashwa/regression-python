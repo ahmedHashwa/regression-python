{
  "cells": [
    {
      "cell_type": "markdown",
      "metadata": {
        "pycharm": {}
      },
      "source": [
        "The dataset used in this notebook could be found on this link: https://archive.ics.uci.edu/ml/datasets/Air+Quality"
      ]
    },
    {
      "cell_type": "code",
      "execution_count": 1,
      "metadata": {
        "collapsed": true,
        "pycharm": {
          "is_executing": false
        }
      },
      "outputs": [],
      "source": [
        "import matplotlib.pyplot as plt\n",
        "import numpy as np\n",
        "import pandas as pd\n",
        "%matplotlib inline"
      ]
    },
    {
      "cell_type": "markdown",
      "metadata": {
        "pycharm": {}
      },
      "source": [
        "Atributes info:\n",
        "\n",
        "    0 Date\t(DD/MM/YYYY) \n",
        "    1 Time\t(HH.MM.SS) \n",
        "    2 True hourly averaged concentration CO in mg/m^3 (reference analyzer) \n",
        "    3 PT08.S1 (tin oxide) hourly averaged sensor response (nominally CO targeted)\t\n",
        "    4 True hourly averaged overall Non Metanic HydroCarbons concentration in microg/m^3 (reference analyzer) \n",
        "    5 True hourly averaged Benzene concentration in microg/m^3 (reference analyzer) \n",
        "    6 PT08.S2 (titania) hourly averaged sensor response (nominally NMHC targeted)\t\n",
        "    7 True hourly averaged NOx concentration in ppb (reference analyzer) \n",
        "    8 PT08.S3 (tungsten oxide) hourly averaged sensor response (nominally NOx targeted) \n",
        "    9 True hourly averaged NO2 concentration in microg/m^3 (reference analyzer)\t\n",
        "    10 PT08.S4 (tungsten oxide) hourly averaged sensor response (nominally NO2 targeted)\t\n",
        "    11 PT08.S5 (indium oxide) hourly averaged sensor response (nominally O3 targeted) \n",
        "    12 Temperature in Â°C\t\n",
        "    13 Relative Humidity (%) \n",
        "    14 AH Absolute Humidity "
      ]
    },
    {
      "cell_type": "code",
      "execution_count": 4,
      "metadata": {
        "collapsed": true,
        "pycharm": {
          "is_executing": false
        }
      },
      "outputs": [],
      "source": "air_data \u003d pd.read_csv(\u0027G:/Projects/Python/PyCharmProjects/regression-python-air/Air Quality - Machine Learning/data/AirQualityUCI.csv\u0027,sep\u003d\u0027;\u0027)"
    },
    {
      "cell_type": "code",
      "execution_count": 5,
      "metadata": {
        "collapsed": false,
        "pycharm": {
          "is_executing": false
        }
      },
      "outputs": [
        {
          "data": {
            "text/plain": "         Date      Time CO(GT)  PT08.S1(CO)  NMHC(GT) C6H6(GT)  PT08.S2(NMHC)  \\\n0  10/03/2004  18.00.00    2,6       1360.0     150.0     11,9         1046.0   \n1  10/03/2004  19.00.00      2       1292.0     112.0      9,4          955.0   \n2  10/03/2004  20.00.00    2,2       1402.0      88.0      9,0          939.0   \n3  10/03/2004  21.00.00    2,2       1376.0      80.0      9,2          948.0   \n4  10/03/2004  22.00.00    1,6       1272.0      51.0      6,5          836.0   \n\n   NOx(GT)  PT08.S3(NOx)  NO2(GT)  PT08.S4(NO2)  PT08.S5(O3)     T    RH  \\\n0    166.0        1056.0    113.0        1692.0       1268.0  13,6  48,9   \n1    103.0        1174.0     92.0        1559.0        972.0  13,3  47,7   \n2    131.0        1140.0    114.0        1555.0       1074.0  11,9  54,0   \n3    172.0        1092.0    122.0        1584.0       1203.0  11,0  60,0   \n4    131.0        1205.0    116.0        1490.0       1110.0  11,2  59,6   \n\n       AH  Unnamed: 15  Unnamed: 16  \n0  0,7578          NaN          NaN  \n1  0,7255          NaN          NaN  \n2  0,7502          NaN          NaN  \n3  0,7867          NaN          NaN  \n4  0,7888          NaN          NaN  ",
            "text/html": "\u003cdiv\u003e\n\u003cstyle scoped\u003e\n    .dataframe tbody tr th:only-of-type {\n        vertical-align: middle;\n    }\n\n    .dataframe tbody tr th {\n        vertical-align: top;\n    }\n\n    .dataframe thead th {\n        text-align: right;\n    }\n\u003c/style\u003e\n\u003ctable border\u003d\"1\" class\u003d\"dataframe\"\u003e\n  \u003cthead\u003e\n    \u003ctr style\u003d\"text-align: right;\"\u003e\n      \u003cth\u003e\u003c/th\u003e\n      \u003cth\u003eDate\u003c/th\u003e\n      \u003cth\u003eTime\u003c/th\u003e\n      \u003cth\u003eCO(GT)\u003c/th\u003e\n      \u003cth\u003ePT08.S1(CO)\u003c/th\u003e\n      \u003cth\u003eNMHC(GT)\u003c/th\u003e\n      \u003cth\u003eC6H6(GT)\u003c/th\u003e\n      \u003cth\u003ePT08.S2(NMHC)\u003c/th\u003e\n      \u003cth\u003eNOx(GT)\u003c/th\u003e\n      \u003cth\u003ePT08.S3(NOx)\u003c/th\u003e\n      \u003cth\u003eNO2(GT)\u003c/th\u003e\n      \u003cth\u003ePT08.S4(NO2)\u003c/th\u003e\n      \u003cth\u003ePT08.S5(O3)\u003c/th\u003e\n      \u003cth\u003eT\u003c/th\u003e\n      \u003cth\u003eRH\u003c/th\u003e\n      \u003cth\u003eAH\u003c/th\u003e\n      \u003cth\u003eUnnamed: 15\u003c/th\u003e\n      \u003cth\u003eUnnamed: 16\u003c/th\u003e\n    \u003c/tr\u003e\n  \u003c/thead\u003e\n  \u003ctbody\u003e\n    \u003ctr\u003e\n      \u003cth\u003e0\u003c/th\u003e\n      \u003ctd\u003e10/03/2004\u003c/td\u003e\n      \u003ctd\u003e18.00.00\u003c/td\u003e\n      \u003ctd\u003e2,6\u003c/td\u003e\n      \u003ctd\u003e1360.0\u003c/td\u003e\n      \u003ctd\u003e150.0\u003c/td\u003e\n      \u003ctd\u003e11,9\u003c/td\u003e\n      \u003ctd\u003e1046.0\u003c/td\u003e\n      \u003ctd\u003e166.0\u003c/td\u003e\n      \u003ctd\u003e1056.0\u003c/td\u003e\n      \u003ctd\u003e113.0\u003c/td\u003e\n      \u003ctd\u003e1692.0\u003c/td\u003e\n      \u003ctd\u003e1268.0\u003c/td\u003e\n      \u003ctd\u003e13,6\u003c/td\u003e\n      \u003ctd\u003e48,9\u003c/td\u003e\n      \u003ctd\u003e0,7578\u003c/td\u003e\n      \u003ctd\u003eNaN\u003c/td\u003e\n      \u003ctd\u003eNaN\u003c/td\u003e\n    \u003c/tr\u003e\n    \u003ctr\u003e\n      \u003cth\u003e1\u003c/th\u003e\n      \u003ctd\u003e10/03/2004\u003c/td\u003e\n      \u003ctd\u003e19.00.00\u003c/td\u003e\n      \u003ctd\u003e2\u003c/td\u003e\n      \u003ctd\u003e1292.0\u003c/td\u003e\n      \u003ctd\u003e112.0\u003c/td\u003e\n      \u003ctd\u003e9,4\u003c/td\u003e\n      \u003ctd\u003e955.0\u003c/td\u003e\n      \u003ctd\u003e103.0\u003c/td\u003e\n      \u003ctd\u003e1174.0\u003c/td\u003e\n      \u003ctd\u003e92.0\u003c/td\u003e\n      \u003ctd\u003e1559.0\u003c/td\u003e\n      \u003ctd\u003e972.0\u003c/td\u003e\n      \u003ctd\u003e13,3\u003c/td\u003e\n      \u003ctd\u003e47,7\u003c/td\u003e\n      \u003ctd\u003e0,7255\u003c/td\u003e\n      \u003ctd\u003eNaN\u003c/td\u003e\n      \u003ctd\u003eNaN\u003c/td\u003e\n    \u003c/tr\u003e\n    \u003ctr\u003e\n      \u003cth\u003e2\u003c/th\u003e\n      \u003ctd\u003e10/03/2004\u003c/td\u003e\n      \u003ctd\u003e20.00.00\u003c/td\u003e\n      \u003ctd\u003e2,2\u003c/td\u003e\n      \u003ctd\u003e1402.0\u003c/td\u003e\n      \u003ctd\u003e88.0\u003c/td\u003e\n      \u003ctd\u003e9,0\u003c/td\u003e\n      \u003ctd\u003e939.0\u003c/td\u003e\n      \u003ctd\u003e131.0\u003c/td\u003e\n      \u003ctd\u003e1140.0\u003c/td\u003e\n      \u003ctd\u003e114.0\u003c/td\u003e\n      \u003ctd\u003e1555.0\u003c/td\u003e\n      \u003ctd\u003e1074.0\u003c/td\u003e\n      \u003ctd\u003e11,9\u003c/td\u003e\n      \u003ctd\u003e54,0\u003c/td\u003e\n      \u003ctd\u003e0,7502\u003c/td\u003e\n      \u003ctd\u003eNaN\u003c/td\u003e\n      \u003ctd\u003eNaN\u003c/td\u003e\n    \u003c/tr\u003e\n    \u003ctr\u003e\n      \u003cth\u003e3\u003c/th\u003e\n      \u003ctd\u003e10/03/2004\u003c/td\u003e\n      \u003ctd\u003e21.00.00\u003c/td\u003e\n      \u003ctd\u003e2,2\u003c/td\u003e\n      \u003ctd\u003e1376.0\u003c/td\u003e\n      \u003ctd\u003e80.0\u003c/td\u003e\n      \u003ctd\u003e9,2\u003c/td\u003e\n      \u003ctd\u003e948.0\u003c/td\u003e\n      \u003ctd\u003e172.0\u003c/td\u003e\n      \u003ctd\u003e1092.0\u003c/td\u003e\n      \u003ctd\u003e122.0\u003c/td\u003e\n      \u003ctd\u003e1584.0\u003c/td\u003e\n      \u003ctd\u003e1203.0\u003c/td\u003e\n      \u003ctd\u003e11,0\u003c/td\u003e\n      \u003ctd\u003e60,0\u003c/td\u003e\n      \u003ctd\u003e0,7867\u003c/td\u003e\n      \u003ctd\u003eNaN\u003c/td\u003e\n      \u003ctd\u003eNaN\u003c/td\u003e\n    \u003c/tr\u003e\n    \u003ctr\u003e\n      \u003cth\u003e4\u003c/th\u003e\n      \u003ctd\u003e10/03/2004\u003c/td\u003e\n      \u003ctd\u003e22.00.00\u003c/td\u003e\n      \u003ctd\u003e1,6\u003c/td\u003e\n      \u003ctd\u003e1272.0\u003c/td\u003e\n      \u003ctd\u003e51.0\u003c/td\u003e\n      \u003ctd\u003e6,5\u003c/td\u003e\n      \u003ctd\u003e836.0\u003c/td\u003e\n      \u003ctd\u003e131.0\u003c/td\u003e\n      \u003ctd\u003e1205.0\u003c/td\u003e\n      \u003ctd\u003e116.0\u003c/td\u003e\n      \u003ctd\u003e1490.0\u003c/td\u003e\n      \u003ctd\u003e1110.0\u003c/td\u003e\n      \u003ctd\u003e11,2\u003c/td\u003e\n      \u003ctd\u003e59,6\u003c/td\u003e\n      \u003ctd\u003e0,7888\u003c/td\u003e\n      \u003ctd\u003eNaN\u003c/td\u003e\n      \u003ctd\u003eNaN\u003c/td\u003e\n    \u003c/tr\u003e\n  \u003c/tbody\u003e\n\u003c/table\u003e\n\u003c/div\u003e"
          },
          "metadata": {},
          "output_type": "execute_result",
          "execution_count": 5
        }
      ],
      "source": [
        "air_data.head()"
      ]
    },
    {
      "cell_type": "code",
      "execution_count": 6,
      "metadata": {
        "collapsed": false,
        "pycharm": {
          "is_executing": false
        }
      },
      "outputs": [
        {
          "data": {
            "text/plain": "(9471, 17)"
          },
          "metadata": {},
          "output_type": "execute_result",
          "execution_count": 6
        }
      ],
      "source": [
        "air_data.shape"
      ]
    },
    {
      "cell_type": "code",
      "execution_count": 7,
      "metadata": {
        "collapsed": false,
        "pycharm": {
          "is_executing": false
        }
      },
      "outputs": [
        {
          "traceback": [
            "\u001b[1;31m---------------------------------------------------------------------------\u001b[0m",
            "\u001b[1;31mValueError\u001b[0m                                Traceback (most recent call last)",
            "\u001b[1;32m\u003cipython-input-7-bce9bddfb0d3\u003e\u001b[0m in \u001b[0;36m\u003cmodule\u003e\u001b[1;34m\u001b[0m\n\u001b[0;32m      6\u001b[0m \u001b[1;33m\u001b[0m\u001b[0m\n\u001b[0;32m      7\u001b[0m \u001b[0mdata_to_plot\u001b[0m \u001b[1;33m\u003d\u001b[0m \u001b[0mair_data\u001b[0m\u001b[1;33m[\u001b[0m\u001b[0mfeatures_plot\u001b[0m\u001b[1;33m]\u001b[0m\u001b[1;33m\u001b[0m\u001b[1;33m\u001b[0m\u001b[0m\n\u001b[1;32m----\u003e 8\u001b[1;33m \u001b[0mdata_to_plot\u001b[0m \u001b[1;33m\u003d\u001b[0m \u001b[0mscalar\u001b[0m\u001b[1;33m.\u001b[0m\u001b[0mfit_transform\u001b[0m\u001b[1;33m(\u001b[0m\u001b[0mdata_to_plot\u001b[0m\u001b[1;33m)\u001b[0m\u001b[1;33m\u001b[0m\u001b[1;33m\u001b[0m\u001b[0m\n\u001b[0m\u001b[0;32m      9\u001b[0m \u001b[0mdata_to_plot\u001b[0m \u001b[1;33m\u003d\u001b[0m \u001b[0mpd\u001b[0m\u001b[1;33m.\u001b[0m\u001b[0mDataFrame\u001b[0m\u001b[1;33m(\u001b[0m\u001b[0mdata_to_plot\u001b[0m\u001b[1;33m)\u001b[0m\u001b[1;33m\u001b[0m\u001b[1;33m\u001b[0m\u001b[0m\n\u001b[0;32m     10\u001b[0m \u001b[1;33m\u001b[0m\u001b[0m\n",
            "\u001b[1;32mg:\\projects\\python\\pycharmprojects\\regression-python-air\\venv\\lib\\site-packages\\sklearn\\base.py\u001b[0m in \u001b[0;36mfit_transform\u001b[1;34m(self, X, y, **fit_params)\u001b[0m\n\u001b[0;32m    462\u001b[0m         \u001b[1;32mif\u001b[0m \u001b[0my\u001b[0m \u001b[1;32mis\u001b[0m \u001b[1;32mNone\u001b[0m\u001b[1;33m:\u001b[0m\u001b[1;33m\u001b[0m\u001b[1;33m\u001b[0m\u001b[0m\n\u001b[0;32m    463\u001b[0m             \u001b[1;31m# fit method of arity 1 (unsupervised transformation)\u001b[0m\u001b[1;33m\u001b[0m\u001b[1;33m\u001b[0m\u001b[1;33m\u001b[0m\u001b[0m\n\u001b[1;32m--\u003e 464\u001b[1;33m             \u001b[1;32mreturn\u001b[0m \u001b[0mself\u001b[0m\u001b[1;33m.\u001b[0m\u001b[0mfit\u001b[0m\u001b[1;33m(\u001b[0m\u001b[0mX\u001b[0m\u001b[1;33m,\u001b[0m \u001b[1;33m**\u001b[0m\u001b[0mfit_params\u001b[0m\u001b[1;33m)\u001b[0m\u001b[1;33m.\u001b[0m\u001b[0mtransform\u001b[0m\u001b[1;33m(\u001b[0m\u001b[0mX\u001b[0m\u001b[1;33m)\u001b[0m\u001b[1;33m\u001b[0m\u001b[1;33m\u001b[0m\u001b[0m\n\u001b[0m\u001b[0;32m    465\u001b[0m         \u001b[1;32melse\u001b[0m\u001b[1;33m:\u001b[0m\u001b[1;33m\u001b[0m\u001b[1;33m\u001b[0m\u001b[0m\n\u001b[0;32m    466\u001b[0m             \u001b[1;31m# fit method of arity 2 (supervised transformation)\u001b[0m\u001b[1;33m\u001b[0m\u001b[1;33m\u001b[0m\u001b[1;33m\u001b[0m\u001b[0m\n",
            "\u001b[1;32mg:\\projects\\python\\pycharmprojects\\regression-python-air\\venv\\lib\\site-packages\\sklearn\\preprocessing\\data.py\u001b[0m in \u001b[0;36mfit\u001b[1;34m(self, X, y)\u001b[0m\n\u001b[0;32m    643\u001b[0m         \u001b[1;31m# Reset internal state before fitting\u001b[0m\u001b[1;33m\u001b[0m\u001b[1;33m\u001b[0m\u001b[1;33m\u001b[0m\u001b[0m\n\u001b[0;32m    644\u001b[0m         \u001b[0mself\u001b[0m\u001b[1;33m.\u001b[0m\u001b[0m_reset\u001b[0m\u001b[1;33m(\u001b[0m\u001b[1;33m)\u001b[0m\u001b[1;33m\u001b[0m\u001b[1;33m\u001b[0m\u001b[0m\n\u001b[1;32m--\u003e 645\u001b[1;33m         \u001b[1;32mreturn\u001b[0m \u001b[0mself\u001b[0m\u001b[1;33m.\u001b[0m\u001b[0mpartial_fit\u001b[0m\u001b[1;33m(\u001b[0m\u001b[0mX\u001b[0m\u001b[1;33m,\u001b[0m \u001b[0my\u001b[0m\u001b[1;33m)\u001b[0m\u001b[1;33m\u001b[0m\u001b[1;33m\u001b[0m\u001b[0m\n\u001b[0m\u001b[0;32m    646\u001b[0m \u001b[1;33m\u001b[0m\u001b[0m\n\u001b[0;32m    647\u001b[0m     \u001b[1;32mdef\u001b[0m \u001b[0mpartial_fit\u001b[0m\u001b[1;33m(\u001b[0m\u001b[0mself\u001b[0m\u001b[1;33m,\u001b[0m \u001b[0mX\u001b[0m\u001b[1;33m,\u001b[0m \u001b[0my\u001b[0m\u001b[1;33m\u003d\u001b[0m\u001b[1;32mNone\u001b[0m\u001b[1;33m)\u001b[0m\u001b[1;33m:\u001b[0m\u001b[1;33m\u001b[0m\u001b[1;33m\u001b[0m\u001b[0m\n",
            "\u001b[1;32mg:\\projects\\python\\pycharmprojects\\regression-python-air\\venv\\lib\\site-packages\\sklearn\\preprocessing\\data.py\u001b[0m in \u001b[0;36mpartial_fit\u001b[1;34m(self, X, y)\u001b[0m\n\u001b[0;32m    667\u001b[0m         X \u003d check_array(X, accept_sparse\u003d(\u0027csr\u0027, \u0027csc\u0027), copy\u003dself.copy,\n\u001b[0;32m    668\u001b[0m                         \u001b[0mwarn_on_dtype\u001b[0m\u001b[1;33m\u003d\u001b[0m\u001b[1;32mTrue\u001b[0m\u001b[1;33m,\u001b[0m \u001b[0mestimator\u001b[0m\u001b[1;33m\u003d\u001b[0m\u001b[0mself\u001b[0m\u001b[1;33m,\u001b[0m \u001b[0mdtype\u001b[0m\u001b[1;33m\u003d\u001b[0m\u001b[0mFLOAT_DTYPES\u001b[0m\u001b[1;33m,\u001b[0m\u001b[1;33m\u001b[0m\u001b[1;33m\u001b[0m\u001b[0m\n\u001b[1;32m--\u003e 669\u001b[1;33m                         force_all_finite\u003d\u0027allow-nan\u0027)\n\u001b[0m\u001b[0;32m    670\u001b[0m \u001b[1;33m\u001b[0m\u001b[0m\n\u001b[0;32m    671\u001b[0m         \u001b[1;31m# Even in the case of `with_mean\u003dFalse`, we update the mean anyway\u001b[0m\u001b[1;33m\u001b[0m\u001b[1;33m\u001b[0m\u001b[1;33m\u001b[0m\u001b[0m\n",
            "\u001b[1;32mg:\\projects\\python\\pycharmprojects\\regression-python-air\\venv\\lib\\site-packages\\sklearn\\utils\\validation.py\u001b[0m in \u001b[0;36mcheck_array\u001b[1;34m(array, accept_sparse, accept_large_sparse, dtype, order, copy, force_all_finite, ensure_2d, allow_nd, ensure_min_samples, ensure_min_features, warn_on_dtype, estimator)\u001b[0m\n\u001b[0;32m    525\u001b[0m             \u001b[1;32mtry\u001b[0m\u001b[1;33m:\u001b[0m\u001b[1;33m\u001b[0m\u001b[1;33m\u001b[0m\u001b[0m\n\u001b[0;32m    526\u001b[0m                 \u001b[0mwarnings\u001b[0m\u001b[1;33m.\u001b[0m\u001b[0msimplefilter\u001b[0m\u001b[1;33m(\u001b[0m\u001b[1;34m\u0027error\u0027\u001b[0m\u001b[1;33m,\u001b[0m \u001b[0mComplexWarning\u001b[0m\u001b[1;33m)\u001b[0m\u001b[1;33m\u001b[0m\u001b[1;33m\u001b[0m\u001b[0m\n\u001b[1;32m--\u003e 527\u001b[1;33m                 \u001b[0marray\u001b[0m \u001b[1;33m\u003d\u001b[0m \u001b[0mnp\u001b[0m\u001b[1;33m.\u001b[0m\u001b[0masarray\u001b[0m\u001b[1;33m(\u001b[0m\u001b[0marray\u001b[0m\u001b[1;33m,\u001b[0m \u001b[0mdtype\u001b[0m\u001b[1;33m\u003d\u001b[0m\u001b[0mdtype\u001b[0m\u001b[1;33m,\u001b[0m \u001b[0morder\u001b[0m\u001b[1;33m\u003d\u001b[0m\u001b[0morder\u001b[0m\u001b[1;33m)\u001b[0m\u001b[1;33m\u001b[0m\u001b[1;33m\u001b[0m\u001b[0m\n\u001b[0m\u001b[0;32m    528\u001b[0m             \u001b[1;32mexcept\u001b[0m \u001b[0mComplexWarning\u001b[0m\u001b[1;33m:\u001b[0m\u001b[1;33m\u001b[0m\u001b[1;33m\u001b[0m\u001b[0m\n\u001b[0;32m    529\u001b[0m                 raise ValueError(\"Complex data not supported\\n\"\n",
            "\u001b[1;32mg:\\projects\\python\\pycharmprojects\\regression-python-air\\venv\\lib\\site-packages\\numpy\\core\\numeric.py\u001b[0m in \u001b[0;36masarray\u001b[1;34m(a, dtype, order)\u001b[0m\n\u001b[0;32m    536\u001b[0m \u001b[1;33m\u001b[0m\u001b[0m\n\u001b[0;32m    537\u001b[0m     \"\"\"\n\u001b[1;32m--\u003e 538\u001b[1;33m     \u001b[1;32mreturn\u001b[0m \u001b[0marray\u001b[0m\u001b[1;33m(\u001b[0m\u001b[0ma\u001b[0m\u001b[1;33m,\u001b[0m \u001b[0mdtype\u001b[0m\u001b[1;33m,\u001b[0m \u001b[0mcopy\u001b[0m\u001b[1;33m\u003d\u001b[0m\u001b[1;32mFalse\u001b[0m\u001b[1;33m,\u001b[0m \u001b[0morder\u001b[0m\u001b[1;33m\u003d\u001b[0m\u001b[0morder\u001b[0m\u001b[1;33m)\u001b[0m\u001b[1;33m\u001b[0m\u001b[1;33m\u001b[0m\u001b[0m\n\u001b[0m\u001b[0;32m    539\u001b[0m \u001b[1;33m\u001b[0m\u001b[0m\n\u001b[0;32m    540\u001b[0m \u001b[1;33m\u001b[0m\u001b[0m\n",
            "\u001b[1;31mValueError\u001b[0m: could not convert string to float: \u002711,9\u0027"
          ],
          "ename": "ValueError",
          "evalue": "could not convert string to float: \u002711,9\u0027",
          "output_type": "error"
        }
      ],
      "source": "import seaborn as sns\nfrom sklearn.preprocessing import StandardScaler\nscalar \u003d StandardScaler()\nsns.set(style\u003d\u0027whitegrid\u0027, context\u003d\u0027notebook\u0027)\nfeatures_plot \u003d [\u0027C6H6(GT)\u0027, \u0027RH\u0027, \u0027AH\u0027, \u0027PT08.S1(CO)\u0027]\n\ndata_to_plot \u003d air_data[features_plot]\ndata_to_plot \u003d scalar.fit_transform(data_to_plot)\ndata_to_plot \u003d pd.DataFrame(data_to_plot)\n\nsns.pairplot(data_to_plot, size\u003d2.0)\nplt.tight_layout()\nplt.show()"
    },
    {
      "cell_type": "markdown",
      "metadata": {
        "pycharm": {}
      },
      "source": [
        "## Step 1. Preprocessing data"
      ]
    },
    {
      "cell_type": "code",
      "execution_count": 5,
      "metadata": {
        "collapsed": false,
        "pycharm": {}
      },
      "outputs": [
        {
          "data": {
            "text/html": [
              "\u003cdiv\u003e\n",
              "\u003ctable border\u003d\"1\" class\u003d\"dataframe\"\u003e\n",
              "  \u003cthead\u003e\n",
              "    \u003ctr style\u003d\"text-align: right;\"\u003e\n",
              "      \u003cth\u003e\u003c/th\u003e\n",
              "      \u003cth\u003eDate\u003c/th\u003e\n",
              "      \u003cth\u003eTime\u003c/th\u003e\n",
              "      \u003cth\u003eCO(GT)\u003c/th\u003e\n",
              "      \u003cth\u003ePT08.S1(CO)\u003c/th\u003e\n",
              "      \u003cth\u003eNMHC(GT)\u003c/th\u003e\n",
              "      \u003cth\u003eC6H6(GT)\u003c/th\u003e\n",
              "      \u003cth\u003ePT08.S2(NMHC)\u003c/th\u003e\n",
              "      \u003cth\u003eNOx(GT)\u003c/th\u003e\n",
              "      \u003cth\u003ePT08.S3(NOx)\u003c/th\u003e\n",
              "      \u003cth\u003eNO2(GT)\u003c/th\u003e\n",
              "      \u003cth\u003ePT08.S4(NO2)\u003c/th\u003e\n",
              "      \u003cth\u003ePT08.S5(O3)\u003c/th\u003e\n",
              "      \u003cth\u003eT\u003c/th\u003e\n",
              "      \u003cth\u003eRH\u003c/th\u003e\n",
              "      \u003cth\u003eAH\u003c/th\u003e\n",
              "    \u003c/tr\u003e\n",
              "  \u003c/thead\u003e\n",
              "  \u003ctbody\u003e\n",
              "    \u003ctr\u003e\n",
              "      \u003cth\u003e0\u003c/th\u003e\n",
              "      \u003ctd\u003e2004-03-10\u003c/td\u003e\n",
              "      \u003ctd\u003e18:00:00\u003c/td\u003e\n",
              "      \u003ctd\u003e2.6\u003c/td\u003e\n",
              "      \u003ctd\u003e1360.000000\u003c/td\u003e\n",
              "      \u003ctd\u003e150\u003c/td\u003e\n",
              "      \u003ctd\u003e11.881723\u003c/td\u003e\n",
              "      \u003ctd\u003e1045.500000\u003c/td\u003e\n",
              "      \u003ctd\u003e166.0\u003c/td\u003e\n",
              "      \u003ctd\u003e1056.250000\u003c/td\u003e\n",
              "      \u003ctd\u003e113.0\u003c/td\u003e\n",
              "      \u003ctd\u003e1692.000000\u003c/td\u003e\n",
              "      \u003ctd\u003e1267.500000\u003c/td\u003e\n",
              "      \u003ctd\u003e13.600000\u003c/td\u003e\n",
              "      \u003ctd\u003e48.875001\u003c/td\u003e\n",
              "      \u003ctd\u003e0.757754\u003c/td\u003e\n",
              "    \u003c/tr\u003e\n",
              "    \u003ctr\u003e\n",
              "      \u003cth\u003e1\u003c/th\u003e\n",
              "      \u003ctd\u003e2004-03-10\u003c/td\u003e\n",
              "      \u003ctd\u003e19:00:00\u003c/td\u003e\n",
              "      \u003ctd\u003e2.0\u003c/td\u003e\n",
              "      \u003ctd\u003e1292.250000\u003c/td\u003e\n",
              "      \u003ctd\u003e112\u003c/td\u003e\n",
              "      \u003ctd\u003e9.397165\u003c/td\u003e\n",
              "      \u003ctd\u003e954.750000\u003c/td\u003e\n",
              "      \u003ctd\u003e103.0\u003c/td\u003e\n",
              "      \u003ctd\u003e1173.750000\u003c/td\u003e\n",
              "      \u003ctd\u003e92.0\u003c/td\u003e\n",
              "      \u003ctd\u003e1558.750000\u003c/td\u003e\n",
              "      \u003ctd\u003e972.250000\u003c/td\u003e\n",
              "      \u003ctd\u003e13.300000\u003c/td\u003e\n",
              "      \u003ctd\u003e47.700000\u003c/td\u003e\n",
              "      \u003ctd\u003e0.725487\u003c/td\u003e\n",
              "    \u003c/tr\u003e\n",
              "    \u003ctr\u003e\n",
              "      \u003cth\u003e2\u003c/th\u003e\n",
              "      \u003ctd\u003e2004-03-10\u003c/td\u003e\n",
              "      \u003ctd\u003e20:00:00\u003c/td\u003e\n",
              "      \u003ctd\u003e2.2\u003c/td\u003e\n",
              "      \u003ctd\u003e1402.000000\u003c/td\u003e\n",
              "      \u003ctd\u003e88\u003c/td\u003e\n",
              "      \u003ctd\u003e8.997817\u003c/td\u003e\n",
              "      \u003ctd\u003e939.250000\u003c/td\u003e\n",
              "      \u003ctd\u003e131.0\u003c/td\u003e\n",
              "      \u003ctd\u003e1140.000000\u003c/td\u003e\n",
              "      \u003ctd\u003e114.0\u003c/td\u003e\n",
              "      \u003ctd\u003e1554.500000\u003c/td\u003e\n",
              "      \u003ctd\u003e1074.000000\u003c/td\u003e\n",
              "      \u003ctd\u003e11.900000\u003c/td\u003e\n",
              "      \u003ctd\u003e53.975000\u003c/td\u003e\n",
              "      \u003ctd\u003e0.750239\u003c/td\u003e\n",
              "    \u003c/tr\u003e\n",
              "    \u003ctr\u003e\n",
              "      \u003cth\u003e3\u003c/th\u003e\n",
              "      \u003ctd\u003e2004-03-10\u003c/td\u003e\n",
              "      \u003ctd\u003e21:00:00\u003c/td\u003e\n",
              "      \u003ctd\u003e2.2\u003c/td\u003e\n",
              "      \u003ctd\u003e1375.500000\u003c/td\u003e\n",
              "      \u003ctd\u003e80\u003c/td\u003e\n",
              "      \u003ctd\u003e9.228796\u003c/td\u003e\n",
              "      \u003ctd\u003e948.250000\u003c/td\u003e\n",
              "      \u003ctd\u003e172.0\u003c/td\u003e\n",
              "      \u003ctd\u003e1092.000000\u003c/td\u003e\n",
              "      \u003ctd\u003e122.0\u003c/td\u003e\n",
              "      \u003ctd\u003e1583.750000\u003c/td\u003e\n",
              "      \u003ctd\u003e1203.250000\u003c/td\u003e\n",
              "      \u003ctd\u003e11.000000\u003c/td\u003e\n",
              "      \u003ctd\u003e60.000000\u003c/td\u003e\n",
              "      \u003ctd\u003e0.786713\u003c/td\u003e\n",
              "    \u003c/tr\u003e\n",
              "    \u003ctr\u003e\n",
              "      \u003cth\u003e4\u003c/th\u003e\n",
              "      \u003ctd\u003e2004-03-10\u003c/td\u003e\n",
              "      \u003ctd\u003e22:00:00\u003c/td\u003e\n",
              "      \u003ctd\u003e1.6\u003c/td\u003e\n",
              "      \u003ctd\u003e1272.250000\u003c/td\u003e\n",
              "      \u003ctd\u003e51\u003c/td\u003e\n",
              "      \u003ctd\u003e6.518224\u003c/td\u003e\n",
              "      \u003ctd\u003e835.500000\u003c/td\u003e\n",
              "      \u003ctd\u003e131.0\u003c/td\u003e\n",
              "      \u003ctd\u003e1205.000000\u003c/td\u003e\n",
              "      \u003ctd\u003e116.0\u003c/td\u003e\n",
              "      \u003ctd\u003e1490.000000\u003c/td\u003e\n",
              "      \u003ctd\u003e1110.000000\u003c/td\u003e\n",
              "      \u003ctd\u003e11.150000\u003c/td\u003e\n",
              "      \u003ctd\u003e59.575001\u003c/td\u003e\n",
              "      \u003ctd\u003e0.788794\u003c/td\u003e\n",
              "    \u003c/tr\u003e\n",
              "    \u003ctr\u003e\n",
              "      \u003cth\u003e5\u003c/th\u003e\n",
              "      \u003ctd\u003e2004-03-10\u003c/td\u003e\n",
              "      \u003ctd\u003e23:00:00\u003c/td\u003e\n",
              "      \u003ctd\u003e1.2\u003c/td\u003e\n",
              "      \u003ctd\u003e1197.000000\u003c/td\u003e\n",
              "      \u003ctd\u003e38\u003c/td\u003e\n",
              "      \u003ctd\u003e4.741012\u003c/td\u003e\n",
              "      \u003ctd\u003e750.250000\u003c/td\u003e\n",
              "      \u003ctd\u003e89.0\u003c/td\u003e\n",
              "      \u003ctd\u003e1336.500000\u003c/td\u003e\n",
              "      \u003ctd\u003e96.0\u003c/td\u003e\n",
              "      \u003ctd\u003e1393.000000\u003c/td\u003e\n",
              "      \u003ctd\u003e949.250000\u003c/td\u003e\n",
              "      \u003ctd\u003e11.175000\u003c/td\u003e\n",
              "      \u003ctd\u003e59.175000\u003c/td\u003e\n",
              "      \u003ctd\u003e0.784772\u003c/td\u003e\n",
              "    \u003c/tr\u003e\n",
              "    \u003ctr\u003e\n",
              "      \u003cth\u003e6\u003c/th\u003e\n",
              "      \u003ctd\u003e2004-03-11\u003c/td\u003e\n",
              "      \u003ctd\u003e00:00:00\u003c/td\u003e\n",
              "      \u003ctd\u003e1.2\u003c/td\u003e\n",
              "      \u003ctd\u003e1185.000000\u003c/td\u003e\n",
              "      \u003ctd\u003e31\u003c/td\u003e\n",
              "      \u003ctd\u003e3.624399\u003c/td\u003e\n",
              "      \u003ctd\u003e689.500000\u003c/td\u003e\n",
              "      \u003ctd\u003e62.0\u003c/td\u003e\n",
              "      \u003ctd\u003e1461.750000\u003c/td\u003e\n",
              "      \u003ctd\u003e77.0\u003c/td\u003e\n",
              "      \u003ctd\u003e1332.750000\u003c/td\u003e\n",
              "      \u003ctd\u003e732.500000\u003c/td\u003e\n",
              "      \u003ctd\u003e11.325000\u003c/td\u003e\n",
              "      \u003ctd\u003e56.775000\u003c/td\u003e\n",
              "      \u003ctd\u003e0.760312\u003c/td\u003e\n",
              "    \u003c/tr\u003e\n",
              "    \u003ctr\u003e\n",
              "      \u003cth\u003e7\u003c/th\u003e\n",
              "      \u003ctd\u003e2004-03-11\u003c/td\u003e\n",
              "      \u003ctd\u003e01:00:00\u003c/td\u003e\n",
              "      \u003ctd\u003e1.0\u003c/td\u003e\n",
              "      \u003ctd\u003e1136.250000\u003c/td\u003e\n",
              "      \u003ctd\u003e31\u003c/td\u003e\n",
              "      \u003ctd\u003e3.326677\u003c/td\u003e\n",
              "      \u003ctd\u003e672.000000\u003c/td\u003e\n",
              "      \u003ctd\u003e62.0\u003c/td\u003e\n",
              "      \u003ctd\u003e1453.250000\u003c/td\u003e\n",
              "      \u003ctd\u003e76.0\u003c/td\u003e\n",
              "      \u003ctd\u003e1332.750000\u003c/td\u003e\n",
              "      \u003ctd\u003e729.500000\u003c/td\u003e\n",
              "      \u003ctd\u003e10.675000\u003c/td\u003e\n",
              "      \u003ctd\u003e60.000000\u003c/td\u003e\n",
              "      \u003ctd\u003e0.770238\u003c/td\u003e\n",
              "    \u003c/tr\u003e\n",
              "    \u003ctr\u003e\n",
              "      \u003cth\u003e8\u003c/th\u003e\n",
              "      \u003ctd\u003e2004-03-11\u003c/td\u003e\n",
              "      \u003ctd\u003e02:00:00\u003c/td\u003e\n",
              "      \u003ctd\u003e0.9\u003c/td\u003e\n",
              "      \u003ctd\u003e1094.000000\u003c/td\u003e\n",
              "      \u003ctd\u003e24\u003c/td\u003e\n",
              "      \u003ctd\u003e2.339416\u003c/td\u003e\n",
              "      \u003ctd\u003e608.500000\u003c/td\u003e\n",
              "      \u003ctd\u003e45.0\u003c/td\u003e\n",
              "      \u003ctd\u003e1579.000000\u003c/td\u003e\n",
              "      \u003ctd\u003e60.0\u003c/td\u003e\n",
              "      \u003ctd\u003e1276.000000\u003c/td\u003e\n",
              "      \u003ctd\u003e619.500000\u003c/td\u003e\n",
              "      \u003ctd\u003e10.650000\u003c/td\u003e\n",
              "      \u003ctd\u003e59.674999\u003c/td\u003e\n",
              "      \u003ctd\u003e0.764819\u003c/td\u003e\n",
              "    \u003c/tr\u003e\n",
              "    \u003ctr\u003e\n",
              "      \u003cth\u003e9\u003c/th\u003e\n",
              "      \u003ctd\u003e2004-03-11\u003c/td\u003e\n",
              "      \u003ctd\u003e03:00:00\u003c/td\u003e\n",
              "      \u003ctd\u003e0.6\u003c/td\u003e\n",
              "      \u003ctd\u003e1009.750000\u003c/td\u003e\n",
              "      \u003ctd\u003e19\u003c/td\u003e\n",
              "      \u003ctd\u003e1.696658\u003c/td\u003e\n",
              "      \u003ctd\u003e560.750000\u003c/td\u003e\n",
              "      \u003ctd\u003e-200.0\u003c/td\u003e\n",
              "      \u003ctd\u003e1705.000000\u003c/td\u003e\n",
              "      \u003ctd\u003e-200.0\u003c/td\u003e\n",
              "      \u003ctd\u003e1234.750000\u003c/td\u003e\n",
              "      \u003ctd\u003e501.250000\u003c/td\u003e\n",
              "      \u003ctd\u003e10.250000\u003c/td\u003e\n",
              "      \u003ctd\u003e60.200001\u003c/td\u003e\n",
              "      \u003ctd\u003e0.751657\u003c/td\u003e\n",
              "    \u003c/tr\u003e\n",
              "    \u003ctr\u003e\n",
              "      \u003cth\u003e10\u003c/th\u003e\n",
              "      \u003ctd\u003e2004-03-11\u003c/td\u003e\n",
              "      \u003ctd\u003e04:00:00\u003c/td\u003e\n",
              "      \u003ctd\u003e-200.0\u003c/td\u003e\n",
              "      \u003ctd\u003e1011.000000\u003c/td\u003e\n",
              "      \u003ctd\u003e14\u003c/td\u003e\n",
              "      \u003ctd\u003e1.293620\u003c/td\u003e\n",
              "      \u003ctd\u003e526.750000\u003c/td\u003e\n",
              "      \u003ctd\u003e21.0\u003c/td\u003e\n",
              "      \u003ctd\u003e1817.500000\u003c/td\u003e\n",
              "      \u003ctd\u003e34.0\u003c/td\u003e\n",
              "      \u003ctd\u003e1196.750000\u003c/td\u003e\n",
              "      \u003ctd\u003e445.250000\u003c/td\u003e\n",
              "      \u003ctd\u003e10.075000\u003c/td\u003e\n",
              "      \u003ctd\u003e60.474999\u003c/td\u003e\n",
              "      \u003ctd\u003e0.746495\u003c/td\u003e\n",
              "    \u003c/tr\u003e\n",
              "    \u003ctr\u003e\n",
              "      \u003cth\u003e11\u003c/th\u003e\n",
              "      \u003ctd\u003e2004-03-11\u003c/td\u003e\n",
              "      \u003ctd\u003e05:00:00\u003c/td\u003e\n",
              "      \u003ctd\u003e0.7\u003c/td\u003e\n",
              "      \u003ctd\u003e1066.000000\u003c/td\u003e\n",
              "      \u003ctd\u003e8\u003c/td\u003e\n",
              "      \u003ctd\u003e1.133431\u003c/td\u003e\n",
              "      \u003ctd\u003e512.000000\u003c/td\u003e\n",
              "      \u003ctd\u003e16.0\u003c/td\u003e\n",
              "      \u003ctd\u003e1918.000000\u003c/td\u003e\n",
              "      \u003ctd\u003e28.0\u003c/td\u003e\n",
              "      \u003ctd\u003e1182.000000\u003c/td\u003e\n",
              "      \u003ctd\u003e421.750000\u003c/td\u003e\n",
              "      \u003ctd\u003e11.000000\u003c/td\u003e\n",
              "      \u003ctd\u003e56.175000\u003c/td\u003e\n",
              "      \u003ctd\u003e0.736560\u003c/td\u003e\n",
              "    \u003c/tr\u003e\n",
              "    \u003ctr\u003e\n",
              "      \u003cth\u003e12\u003c/th\u003e\n",
              "      \u003ctd\u003e2004-03-11\u003c/td\u003e\n",
              "      \u003ctd\u003e06:00:00\u003c/td\u003e\n",
              "      \u003ctd\u003e0.7\u003c/td\u003e\n",
              "      \u003ctd\u003e1051.750000\u003c/td\u003e\n",
              "      \u003ctd\u003e16\u003c/td\u003e\n",
              "      \u003ctd\u003e1.603768\u003c/td\u003e\n",
              "      \u003ctd\u003e553.250000\u003c/td\u003e\n",
              "      \u003ctd\u003e34.0\u003c/td\u003e\n",
              "      \u003ctd\u003e1738.250000\u003c/td\u003e\n",
              "      \u003ctd\u003e48.0\u003c/td\u003e\n",
              "      \u003ctd\u003e1221.250000\u003c/td\u003e\n",
              "      \u003ctd\u003e471.500000\u003c/td\u003e\n",
              "      \u003ctd\u003e10.450000\u003c/td\u003e\n",
              "      \u003ctd\u003e58.125000\u003c/td\u003e\n",
              "      \u003ctd\u003e0.735295\u003c/td\u003e\n",
              "    \u003c/tr\u003e\n",
              "    \u003ctr\u003e\n",
              "      \u003cth\u003e13\u003c/th\u003e\n",
              "      \u003ctd\u003e2004-03-11\u003c/td\u003e\n",
              "      \u003ctd\u003e07:00:00\u003c/td\u003e\n",
              "      \u003ctd\u003e1.1\u003c/td\u003e\n",
              "      \u003ctd\u003e1144.000000\u003c/td\u003e\n",
              "      \u003ctd\u003e29\u003c/td\u003e\n",
              "      \u003ctd\u003e3.243618\u003c/td\u003e\n",
              "      \u003ctd\u003e667.000000\u003c/td\u003e\n",
              "      \u003ctd\u003e98.0\u003c/td\u003e\n",
              "      \u003ctd\u003e1489.750000\u003c/td\u003e\n",
              "      \u003ctd\u003e82.0\u003c/td\u003e\n",
              "      \u003ctd\u003e1339.000000\u003c/td\u003e\n",
              "      \u003ctd\u003e729.750000\u003c/td\u003e\n",
              "      \u003ctd\u003e10.200000\u003c/td\u003e\n",
              "      \u003ctd\u003e59.599999\u003c/td\u003e\n",
              "      \u003ctd\u003e0.741736\u003c/td\u003e\n",
              "    \u003c/tr\u003e\n",
              "    \u003ctr\u003e\n",
              "      \u003cth\u003e14\u003c/th\u003e\n",
              "      \u003ctd\u003e2004-03-11\u003c/td\u003e\n",
              "      \u003ctd\u003e08:00:00\u003c/td\u003e\n",
              "      \u003ctd\u003e2.0\u003c/td\u003e\n",
              "      \u003ctd\u003e1333.250000\u003c/td\u003e\n",
              "      \u003ctd\u003e64\u003c/td\u003e\n",
              "      \u003ctd\u003e8.013773\u003c/td\u003e\n",
              "      \u003ctd\u003e899.750000\u003c/td\u003e\n",
              "      \u003ctd\u003e174.0\u003c/td\u003e\n",
              "      \u003ctd\u003e1136.000000\u003c/td\u003e\n",
              "      \u003ctd\u003e112.0\u003c/td\u003e\n",
              "      \u003ctd\u003e1517.000000\u003c/td\u003e\n",
              "      \u003ctd\u003e1101.500000\u003c/td\u003e\n",
              "      \u003ctd\u003e10.750000\u003c/td\u003e\n",
              "      \u003ctd\u003e57.425000\u003c/td\u003e\n",
              "      \u003ctd\u003e0.740795\u003c/td\u003e\n",
              "    \u003c/tr\u003e\n",
              "    \u003ctr\u003e\n",
              "      \u003cth\u003e15\u003c/th\u003e\n",
              "      \u003ctd\u003e2004-03-11\u003c/td\u003e\n",
              "      \u003ctd\u003e09:00:00\u003c/td\u003e\n",
              "      \u003ctd\u003e2.2\u003c/td\u003e\n",
              "      \u003ctd\u003e1351.000000\u003c/td\u003e\n",
              "      \u003ctd\u003e87\u003c/td\u003e\n",
              "      \u003ctd\u003e9.540643\u003c/td\u003e\n",
              "      \u003ctd\u003e960.250000\u003c/td\u003e\n",
              "      \u003ctd\u003e129.0\u003c/td\u003e\n",
              "      \u003ctd\u003e1079.000000\u003c/td\u003e\n",
              "      \u003ctd\u003e101.0\u003c/td\u003e\n",
              "      \u003ctd\u003e1582.750000\u003c/td\u003e\n",
              "      \u003ctd\u003e1027.750000\u003c/td\u003e\n",
              "      \u003ctd\u003e10.500000\u003c/td\u003e\n",
              "      \u003ctd\u003e60.599998\u003c/td\u003e\n",
              "      \u003ctd\u003e0.769111\u003c/td\u003e\n",
              "    \u003c/tr\u003e\n",
              "    \u003ctr\u003e\n",
              "      \u003cth\u003e16\u003c/th\u003e\n",
              "      \u003ctd\u003e2004-03-11\u003c/td\u003e\n",
              "      \u003ctd\u003e10:00:00\u003c/td\u003e\n",
              "      \u003ctd\u003e1.7\u003c/td\u003e\n",
              "      \u003ctd\u003e1233.250000\u003c/td\u003e\n",
              "      \u003ctd\u003e77\u003c/td\u003e\n",
              "      \u003ctd\u003e6.335782\u003c/td\u003e\n",
              "      \u003ctd\u003e827.250000\u003c/td\u003e\n",
              "      \u003ctd\u003e112.0\u003c/td\u003e\n",
              "      \u003ctd\u003e1218.000000\u003c/td\u003e\n",
              "      \u003ctd\u003e98.0\u003c/td\u003e\n",
              "      \u003ctd\u003e1445.750000\u003c/td\u003e\n",
              "      \u003ctd\u003e859.750000\u003c/td\u003e\n",
              "      \u003ctd\u003e10.800000\u003c/td\u003e\n",
              "      \u003ctd\u003e58.350000\u003c/td\u003e\n",
              "      \u003ctd\u003e0.755183\u003c/td\u003e\n",
              "    \u003c/tr\u003e\n",
              "    \u003ctr\u003e\n",
              "      \u003cth\u003e17\u003c/th\u003e\n",
              "      \u003ctd\u003e2004-03-11\u003c/td\u003e\n",
              "      \u003ctd\u003e11:00:00\u003c/td\u003e\n",
              "      \u003ctd\u003e1.5\u003c/td\u003e\n",
              "      \u003ctd\u003e1178.750000\u003c/td\u003e\n",
              "      \u003ctd\u003e43\u003c/td\u003e\n",
              "      \u003ctd\u003e4.971584\u003c/td\u003e\n",
              "      \u003ctd\u003e762.000000\u003c/td\u003e\n",
              "      \u003ctd\u003e95.0\u003c/td\u003e\n",
              "      \u003ctd\u003e1327.500000\u003c/td\u003e\n",
              "      \u003ctd\u003e92.0\u003c/td\u003e\n",
              "      \u003ctd\u003e1361.750000\u003c/td\u003e\n",
              "      \u003ctd\u003e670.500000\u003c/td\u003e\n",
              "      \u003ctd\u003e10.500000\u003c/td\u003e\n",
              "      \u003ctd\u003e57.925000\u003c/td\u003e\n",
              "      \u003ctd\u003e0.735161\u003c/td\u003e\n",
              "    \u003c/tr\u003e\n",
              "    \u003ctr\u003e\n",
              "      \u003cth\u003e18\u003c/th\u003e\n",
              "      \u003ctd\u003e2004-03-11\u003c/td\u003e\n",
              "      \u003ctd\u003e12:00:00\u003c/td\u003e\n",
              "      \u003ctd\u003e1.6\u003c/td\u003e\n",
              "      \u003ctd\u003e1236.000000\u003c/td\u003e\n",
              "      \u003ctd\u003e61\u003c/td\u003e\n",
              "      \u003ctd\u003e5.216919\u003c/td\u003e\n",
              "      \u003ctd\u003e774.250000\u003c/td\u003e\n",
              "      \u003ctd\u003e104.0\u003c/td\u003e\n",
              "      \u003ctd\u003e1301.250000\u003c/td\u003e\n",
              "      \u003ctd\u003e95.0\u003c/td\u003e\n",
              "      \u003ctd\u003e1401.250000\u003c/td\u003e\n",
              "      \u003ctd\u003e664.000000\u003c/td\u003e\n",
              "      \u003ctd\u003e9.525000\u003c/td\u003e\n",
              "      \u003ctd\u003e66.774999\u003c/td\u003e\n",
              "      \u003ctd\u003e0.795054\u003c/td\u003e\n",
              "    \u003c/tr\u003e\n",
              "    \u003ctr\u003e\n",
              "      \u003cth\u003e19\u003c/th\u003e\n",
              "      \u003ctd\u003e2004-03-11\u003c/td\u003e\n",
              "      \u003ctd\u003e13:00:00\u003c/td\u003e\n",
              "      \u003ctd\u003e1.9\u003c/td\u003e\n",
              "      \u003ctd\u003e1285.500000\u003c/td\u003e\n",
              "      \u003ctd\u003e63\u003c/td\u003e\n",
              "      \u003ctd\u003e7.269933\u003c/td\u003e\n",
              "      \u003ctd\u003e868.500000\u003c/td\u003e\n",
              "      \u003ctd\u003e146.0\u003c/td\u003e\n",
              "      \u003ctd\u003e1162.250000\u003c/td\u003e\n",
              "      \u003ctd\u003e112.0\u003c/td\u003e\n",
              "      \u003ctd\u003e1536.750000\u003c/td\u003e\n",
              "      \u003ctd\u003e799.000000\u003c/td\u003e\n",
              "      \u003ctd\u003e8.300000\u003c/td\u003e\n",
              "      \u003ctd\u003e76.425001\u003c/td\u003e\n",
              "      \u003ctd\u003e0.839268\u003c/td\u003e\n",
              "    \u003c/tr\u003e\n",
              "    \u003ctr\u003e\n",
              "      \u003cth\u003e20\u003c/th\u003e\n",
              "      \u003ctd\u003e2004-03-11\u003c/td\u003e\n",
              "      \u003ctd\u003e14:00:00\u003c/td\u003e\n",
              "      \u003ctd\u003e2.9\u003c/td\u003e\n",
              "      \u003ctd\u003e1371.000000\u003c/td\u003e\n",
              "      \u003ctd\u003e164\u003c/td\u003e\n",
              "      \u003ctd\u003e11.539007\u003c/td\u003e\n",
              "      \u003ctd\u003e1033.500000\u003c/td\u003e\n",
              "      \u003ctd\u003e207.0\u003c/td\u003e\n",
              "      \u003ctd\u003e983.250000\u003c/td\u003e\n",
              "      \u003ctd\u003e128.0\u003c/td\u003e\n",
              "      \u003ctd\u003e1730.250000\u003c/td\u003e\n",
              "      \u003ctd\u003e1036.500000\u003c/td\u003e\n",
              "      \u003ctd\u003e8.000000\u003c/td\u003e\n",
              "      \u003ctd\u003e81.150000\u003c/td\u003e\n",
              "      \u003ctd\u003e0.873589\u003c/td\u003e\n",
              "    \u003c/tr\u003e\n",
              "    \u003ctr\u003e\n",
              "      \u003cth\u003e21\u003c/th\u003e\n",
              "      \u003ctd\u003e2004-03-11\u003c/td\u003e\n",
              "      \u003ctd\u003e15:00:00\u003c/td\u003e\n",
              "      \u003ctd\u003e2.2\u003c/td\u003e\n",
              "      \u003ctd\u003e1310.000000\u003c/td\u003e\n",
              "      \u003ctd\u003e79\u003c/td\u003e\n",
              "      \u003ctd\u003e8.826223\u003c/td\u003e\n",
              "      \u003ctd\u003e932.500000\u003c/td\u003e\n",
              "      \u003ctd\u003e184.0\u003c/td\u003e\n",
              "      \u003ctd\u003e1081.750000\u003c/td\u003e\n",
              "      \u003ctd\u003e126.0\u003c/td\u003e\n",
              "      \u003ctd\u003e1646.500000\u003c/td\u003e\n",
              "      \u003ctd\u003e946.250000\u003c/td\u003e\n",
              "      \u003ctd\u003e8.325000\u003c/td\u003e\n",
              "      \u003ctd\u003e79.799999\u003c/td\u003e\n",
              "      \u003ctd\u003e0.877784\u003c/td\u003e\n",
              "    \u003c/tr\u003e\n",
              "    \u003ctr\u003e\n",
              "      \u003cth\u003e22\u003c/th\u003e\n",
              "      \u003ctd\u003e2004-03-11\u003c/td\u003e\n",
              "      \u003ctd\u003e16:00:00\u003c/td\u003e\n",
              "      \u003ctd\u003e2.2\u003c/td\u003e\n",
              "      \u003ctd\u003e1291.750000\u003c/td\u003e\n",
              "      \u003ctd\u003e95\u003c/td\u003e\n",
              "      \u003ctd\u003e8.301413\u003c/td\u003e\n",
              "      \u003ctd\u003e911.500000\u003c/td\u003e\n",
              "      \u003ctd\u003e193.0\u003c/td\u003e\n",
              "      \u003ctd\u003e1102.500000\u003c/td\u003e\n",
              "      \u003ctd\u003e131.0\u003c/td\u003e\n",
              "      \u003ctd\u003e1590.750000\u003c/td\u003e\n",
              "      \u003ctd\u003e956.750000\u003c/td\u003e\n",
              "      \u003ctd\u003e9.700000\u003c/td\u003e\n",
              "      \u003ctd\u003e71.150002\u003c/td\u003e\n",
              "      \u003ctd\u003e0.856938\u003c/td\u003e\n",
              "    \u003c/tr\u003e\n",
              "    \u003ctr\u003e\n",
              "      \u003cth\u003e23\u003c/th\u003e\n",
              "      \u003ctd\u003e2004-03-11\u003c/td\u003e\n",
              "      \u003ctd\u003e17:00:00\u003c/td\u003e\n",
              "      \u003ctd\u003e2.9\u003c/td\u003e\n",
              "      \u003ctd\u003e1383.000000\u003c/td\u003e\n",
              "      \u003ctd\u003e150\u003c/td\u003e\n",
              "      \u003ctd\u003e11.151581\u003c/td\u003e\n",
              "      \u003ctd\u003e1019.750000\u003c/td\u003e\n",
              "      \u003ctd\u003e243.0\u003c/td\u003e\n",
              "      \u003ctd\u003e1008.000000\u003c/td\u003e\n",
              "      \u003ctd\u003e135.0\u003c/td\u003e\n",
              "      \u003ctd\u003e1718.750000\u003c/td\u003e\n",
              "      \u003ctd\u003e1104.000000\u003c/td\u003e\n",
              "      \u003ctd\u003e9.775000\u003c/td\u003e\n",
              "      \u003ctd\u003e67.624998\u003c/td\u003e\n",
              "      \u003ctd\u003e0.818501\u003c/td\u003e\n",
              "    \u003c/tr\u003e\n",
              "    \u003ctr\u003e\n",
              "      \u003cth\u003e24\u003c/th\u003e\n",
              "      \u003ctd\u003e2004-03-11\u003c/td\u003e\n",
              "      \u003ctd\u003e18:00:00\u003c/td\u003e\n",
              "      \u003ctd\u003e4.8\u003c/td\u003e\n",
              "      \u003ctd\u003e1580.750000\u003c/td\u003e\n",
              "      \u003ctd\u003e307\u003c/td\u003e\n",
              "      \u003ctd\u003e20.799217\u003c/td\u003e\n",
              "      \u003ctd\u003e1318.500000\u003c/td\u003e\n",
              "      \u003ctd\u003e281.0\u003c/td\u003e\n",
              "      \u003ctd\u003e798.500000\u003c/td\u003e\n",
              "      \u003ctd\u003e151.0\u003c/td\u003e\n",
              "      \u003ctd\u003e2083.000000\u003c/td\u003e\n",
              "      \u003ctd\u003e1408.500000\u003c/td\u003e\n",
              "      \u003ctd\u003e10.350000\u003c/td\u003e\n",
              "      \u003ctd\u003e64.174999\u003c/td\u003e\n",
              "      \u003ctd\u003e0.806544\u003c/td\u003e\n",
              "    \u003c/tr\u003e\n",
              "    \u003ctr\u003e\n",
              "      \u003cth\u003e25\u003c/th\u003e\n",
              "      \u003ctd\u003e2004-03-11\u003c/td\u003e\n",
              "      \u003ctd\u003e19:00:00\u003c/td\u003e\n",
              "      \u003ctd\u003e6.9\u003c/td\u003e\n",
              "      \u003ctd\u003e1775.500000\u003c/td\u003e\n",
              "      \u003ctd\u003e461\u003c/td\u003e\n",
              "      \u003ctd\u003e27.359807\u003c/td\u003e\n",
              "      \u003ctd\u003e1487.750000\u003c/td\u003e\n",
              "      \u003ctd\u003e383.0\u003c/td\u003e\n",
              "      \u003ctd\u003e702.250000\u003c/td\u003e\n",
              "      \u003ctd\u003e172.0\u003c/td\u003e\n",
              "      \u003ctd\u003e2332.500000\u003c/td\u003e\n",
              "      \u003ctd\u003e1704.000000\u003c/td\u003e\n",
              "      \u003ctd\u003e9.650000\u003c/td\u003e\n",
              "      \u003ctd\u003e69.300001\u003c/td\u003e\n",
              "      \u003ctd\u003e0.831921\u003c/td\u003e\n",
              "    \u003c/tr\u003e\n",
              "    \u003ctr\u003e\n",
              "      \u003cth\u003e26\u003c/th\u003e\n",
              "      \u003ctd\u003e2004-03-11\u003c/td\u003e\n",
              "      \u003ctd\u003e20:00:00\u003c/td\u003e\n",
              "      \u003ctd\u003e6.1\u003c/td\u003e\n",
              "      \u003ctd\u003e1640.000000\u003c/td\u003e\n",
              "      \u003ctd\u003e401\u003c/td\u003e\n",
              "      \u003ctd\u003e24.017757\u003c/td\u003e\n",
              "      \u003ctd\u003e1404.000000\u003c/td\u003e\n",
              "      \u003ctd\u003e351.0\u003c/td\u003e\n",
              "      \u003ctd\u003e742.750000\u003c/td\u003e\n",
              "      \u003ctd\u003e165.0\u003c/td\u003e\n",
              "      \u003ctd\u003e2191.250000\u003c/td\u003e\n",
              "      \u003ctd\u003e1653.750000\u003c/td\u003e\n",
              "      \u003ctd\u003e9.650000\u003c/td\u003e\n",
              "      \u003ctd\u003e67.750000\u003c/td\u003e\n",
              "      \u003ctd\u003e0.813314\u003c/td\u003e\n",
              "    \u003c/tr\u003e\n",
              "    \u003ctr\u003e\n",
              "      \u003cth\u003e27\u003c/th\u003e\n",
              "      \u003ctd\u003e2004-03-11\u003c/td\u003e\n",
              "      \u003ctd\u003e21:00:00\u003c/td\u003e\n",
              "      \u003ctd\u003e3.9\u003c/td\u003e\n",
              "      \u003ctd\u003e1312.750000\u003c/td\u003e\n",
              "      \u003ctd\u003e197\u003c/td\u003e\n",
              "      \u003ctd\u003e12.779368\u003c/td\u003e\n",
              "      \u003ctd\u003e1076.250000\u003c/td\u003e\n",
              "      \u003ctd\u003e240.0\u003c/td\u003e\n",
              "      \u003ctd\u003e957.250000\u003c/td\u003e\n",
              "      \u003ctd\u003e136.0\u003c/td\u003e\n",
              "      \u003ctd\u003e1706.500000\u003c/td\u003e\n",
              "      \u003ctd\u003e1284.750000\u003c/td\u003e\n",
              "      \u003ctd\u003e9.125000\u003c/td\u003e\n",
              "      \u003ctd\u003e63.974999\u003c/td\u003e\n",
              "      \u003ctd\u003e0.741924\u003c/td\u003e\n",
              "    \u003c/tr\u003e\n",
              "    \u003ctr\u003e\n",
              "      \u003cth\u003e28\u003c/th\u003e\n",
              "      \u003ctd\u003e2004-03-11\u003c/td\u003e\n",
              "      \u003ctd\u003e22:00:00\u003c/td\u003e\n",
              "      \u003ctd\u003e1.5\u003c/td\u003e\n",
              "      \u003ctd\u003e964.500000\u003c/td\u003e\n",
              "      \u003ctd\u003e61\u003c/td\u003e\n",
              "      \u003ctd\u003e4.707072\u003c/td\u003e\n",
              "      \u003ctd\u003e748.500000\u003c/td\u003e\n",
              "      \u003ctd\u003e94.0\u003c/td\u003e\n",
              "      \u003ctd\u003e1325.250000\u003c/td\u003e\n",
              "      \u003ctd\u003e85.0\u003c/td\u003e\n",
              "      \u003ctd\u003e1332.500000\u003c/td\u003e\n",
              "      \u003ctd\u003e821.000000\u003c/td\u003e\n",
              "      \u003ctd\u003e8.175000\u003c/td\u003e\n",
              "      \u003ctd\u003e63.400000\u003c/td\u003e\n",
              "      \u003ctd\u003e0.690484\u003c/td\u003e\n",
              "    \u003c/tr\u003e\n",
              "    \u003ctr\u003e\n",
              "      \u003cth\u003e29\u003c/th\u003e\n",
              "      \u003ctd\u003e2004-03-11\u003c/td\u003e\n",
              "      \u003ctd\u003e23:00:00\u003c/td\u003e\n",
              "      \u003ctd\u003e1.0\u003c/td\u003e\n",
              "      \u003ctd\u003e912.750000\u003c/td\u003e\n",
              "      \u003ctd\u003e26\u003c/td\u003e\n",
              "      \u003ctd\u003e2.645722\u003c/td\u003e\n",
              "      \u003ctd\u003e629.250000\u003c/td\u003e\n",
              "      \u003ctd\u003e47.0\u003c/td\u003e\n",
              "      \u003ctd\u003e1564.500000\u003c/td\u003e\n",
              "      \u003ctd\u003e53.0\u003c/td\u003e\n",
              "      \u003ctd\u003e1252.250000\u003c/td\u003e\n",
              "      \u003ctd\u003e551.750000\u003c/td\u003e\n",
              "      \u003ctd\u003e8.250000\u003c/td\u003e\n",
              "      \u003ctd\u003e60.824999\u003c/td\u003e\n",
              "      \u003ctd\u003e0.665744\u003c/td\u003e\n",
              "    \u003c/tr\u003e\n",
              "    \u003ctr\u003e\n",
              "      \u003cth\u003e...\u003c/th\u003e\n",
              "      \u003ctd\u003e...\u003c/td\u003e\n",
              "      \u003ctd\u003e...\u003c/td\u003e\n",
              "      \u003ctd\u003e...\u003c/td\u003e\n",
              "      \u003ctd\u003e...\u003c/td\u003e\n",
              "      \u003ctd\u003e...\u003c/td\u003e\n",
              "      \u003ctd\u003e...\u003c/td\u003e\n",
              "      \u003ctd\u003e...\u003c/td\u003e\n",
              "      \u003ctd\u003e...\u003c/td\u003e\n",
              "      \u003ctd\u003e...\u003c/td\u003e\n",
              "      \u003ctd\u003e...\u003c/td\u003e\n",
              "      \u003ctd\u003e...\u003c/td\u003e\n",
              "      \u003ctd\u003e...\u003c/td\u003e\n",
              "      \u003ctd\u003e...\u003c/td\u003e\n",
              "      \u003ctd\u003e...\u003c/td\u003e\n",
              "      \u003ctd\u003e...\u003c/td\u003e\n",
              "    \u003c/tr\u003e\n",
              "    \u003ctr\u003e\n",
              "      \u003cth\u003e9327\u003c/th\u003e\n",
              "      \u003ctd\u003e2005-04-03\u003c/td\u003e\n",
              "      \u003ctd\u003e09:00:00\u003c/td\u003e\n",
              "      \u003ctd\u003e1.2\u003c/td\u003e\n",
              "      \u003ctd\u003e1022.250000\u003c/td\u003e\n",
              "      \u003ctd\u003e-200\u003c/td\u003e\n",
              "      \u003ctd\u003e4.082095\u003c/td\u003e\n",
              "      \u003ctd\u003e715.250000\u003c/td\u003e\n",
              "      \u003ctd\u003e191.9\u003c/td\u003e\n",
              "      \u003ctd\u003e806.000000\u003c/td\u003e\n",
              "      \u003ctd\u003e118.0\u003c/td\u003e\n",
              "      \u003ctd\u003e1004.250000\u003c/td\u003e\n",
              "      \u003ctd\u003e830.750000\u003c/td\u003e\n",
              "      \u003ctd\u003e17.825000\u003c/td\u003e\n",
              "      \u003ctd\u003e30.675000\u003c/td\u003e\n",
              "      \u003ctd\u003e0.620458\u003c/td\u003e\n",
              "    \u003c/tr\u003e\n",
              "    \u003ctr\u003e\n",
              "      \u003cth\u003e9328\u003c/th\u003e\n",
              "      \u003ctd\u003e2005-04-03\u003c/td\u003e\n",
              "      \u003ctd\u003e10:00:00\u003c/td\u003e\n",
              "      \u003ctd\u003e1.4\u003c/td\u003e\n",
              "      \u003ctd\u003e970.250000\u003c/td\u003e\n",
              "      \u003ctd\u003e-200\u003c/td\u003e\n",
              "      \u003ctd\u003e3.402194\u003c/td\u003e\n",
              "      \u003ctd\u003e676.500000\u003c/td\u003e\n",
              "      \u003ctd\u003e166.4\u003c/td\u003e\n",
              "      \u003ctd\u003e887.500000\u003c/td\u003e\n",
              "      \u003ctd\u003e113.2\u003c/td\u003e\n",
              "      \u003ctd\u003e930.500000\u003c/td\u003e\n",
              "      \u003ctd\u003e612.500000\u003c/td\u003e\n",
              "      \u003ctd\u003e21.125000\u003c/td\u003e\n",
              "      \u003ctd\u003e23.725000\u003c/td\u003e\n",
              "      \u003ctd\u003e0.587528\u003c/td\u003e\n",
              "    \u003c/tr\u003e\n",
              "    \u003ctr\u003e\n",
              "      \u003cth\u003e9329\u003c/th\u003e\n",
              "      \u003ctd\u003e2005-04-03\u003c/td\u003e\n",
              "      \u003ctd\u003e11:00:00\u003c/td\u003e\n",
              "      \u003ctd\u003e1.3\u003c/td\u003e\n",
              "      \u003ctd\u003e999.750000\u003c/td\u003e\n",
              "      \u003ctd\u003e-200\u003c/td\u003e\n",
              "      \u003ctd\u003e5.313402\u003c/td\u003e\n",
              "      \u003ctd\u003e779.000000\u003c/td\u003e\n",
              "      \u003ctd\u003e171.3\u003c/td\u003e\n",
              "      \u003ctd\u003e804.500000\u003c/td\u003e\n",
              "      \u003ctd\u003e115.0\u003c/td\u003e\n",
              "      \u003ctd\u003e1000.750000\u003c/td\u003e\n",
              "      \u003ctd\u003e639.500000\u003c/td\u003e\n",
              "      \u003ctd\u003e24.000000\u003c/td\u003e\n",
              "      \u003ctd\u003e19.275000\u003c/td\u003e\n",
              "      \u003ctd\u003e0.567283\u003c/td\u003e\n",
              "    \u003c/tr\u003e\n",
              "    \u003ctr\u003e\n",
              "      \u003cth\u003e9330\u003c/th\u003e\n",
              "      \u003ctd\u003e2005-04-03\u003c/td\u003e\n",
              "      \u003ctd\u003e12:00:00\u003c/td\u003e\n",
              "      \u003ctd\u003e1.4\u003c/td\u003e\n",
              "      \u003ctd\u003e996.000000\u003c/td\u003e\n",
              "      \u003ctd\u003e-200\u003c/td\u003e\n",
              "      \u003ctd\u003e5.349138\u003c/td\u003e\n",
              "      \u003ctd\u003e780.750000\u003c/td\u003e\n",
              "      \u003ctd\u003e177.0\u003c/td\u003e\n",
              "      \u003ctd\u003e806.000000\u003c/td\u003e\n",
              "      \u003ctd\u003e123.9\u003c/td\u003e\n",
              "      \u003ctd\u003e985.250000\u003c/td\u003e\n",
              "      \u003ctd\u003e630.750000\u003c/td\u003e\n",
              "      \u003ctd\u003e26.450000\u003c/td\u003e\n",
              "      \u003ctd\u003e16.450000\u003c/td\u003e\n",
              "      \u003ctd\u003e0.559414\u003c/td\u003e\n",
              "    \u003c/tr\u003e\n",
              "    \u003ctr\u003e\n",
              "      \u003cth\u003e9331\u003c/th\u003e\n",
              "      \u003ctd\u003e2005-04-03\u003c/td\u003e\n",
              "      \u003ctd\u003e13:00:00\u003c/td\u003e\n",
              "      \u003ctd\u003e1.0\u003c/td\u003e\n",
              "      \u003ctd\u003e928.000000\u003c/td\u003e\n",
              "      \u003ctd\u003e-200\u003c/td\u003e\n",
              "      \u003ctd\u003e3.817080\u003c/td\u003e\n",
              "      \u003ctd\u003e700.500000\u003c/td\u003e\n",
              "      \u003ctd\u003e118.7\u003c/td\u003e\n",
              "      \u003ctd\u003e925.750000\u003c/td\u003e\n",
              "      \u003ctd\u003e86.4\u003c/td\u003e\n",
              "      \u003ctd\u003e902.000000\u003c/td\u003e\n",
              "      \u003ctd\u003e455.500000\u003c/td\u003e\n",
              "      \u003ctd\u003e28.675000\u003c/td\u003e\n",
              "      \u003ctd\u003e13.700000\u003c/td\u003e\n",
              "      \u003ctd\u003e0.530155\u003c/td\u003e\n",
              "    \u003c/tr\u003e\n",
              "    \u003ctr\u003e\n",
              "      \u003cth\u003e9332\u003c/th\u003e\n",
              "      \u003ctd\u003e2005-04-03\u003c/td\u003e\n",
              "      \u003ctd\u003e14:00:00\u003c/td\u003e\n",
              "      \u003ctd\u003e1.0\u003c/td\u003e\n",
              "      \u003ctd\u003e932.750000\u003c/td\u003e\n",
              "      \u003ctd\u003e-200\u003c/td\u003e\n",
              "      \u003ctd\u003e4.201281\u003c/td\u003e\n",
              "      \u003ctd\u003e721.750000\u003c/td\u003e\n",
              "      \u003ctd\u003e120.6\u003c/td\u003e\n",
              "      \u003ctd\u003e898.750000\u003c/td\u003e\n",
              "      \u003ctd\u003e87.0\u003c/td\u003e\n",
              "      \u003ctd\u003e889.500000\u003c/td\u003e\n",
              "      \u003ctd\u003e449.750000\u003c/td\u003e\n",
              "      \u003ctd\u003e28.475000\u003c/td\u003e\n",
              "      \u003ctd\u003e13.075000\u003c/td\u003e\n",
              "      \u003ctd\u003e0.500166\u003c/td\u003e\n",
              "    \u003c/tr\u003e\n",
              "    \u003ctr\u003e\n",
              "      \u003cth\u003e9333\u003c/th\u003e\n",
              "      \u003ctd\u003e2005-04-03\u003c/td\u003e\n",
              "      \u003ctd\u003e15:00:00\u003c/td\u003e\n",
              "      \u003ctd\u003e1.1\u003c/td\u003e\n",
              "      \u003ctd\u003e956.000000\u003c/td\u003e\n",
              "      \u003ctd\u003e-200\u003c/td\u003e\n",
              "      \u003ctd\u003e5.395234\u003c/td\u003e\n",
              "      \u003ctd\u003e783.000000\u003c/td\u003e\n",
              "      \u003ctd\u003e141.9\u003c/td\u003e\n",
              "      \u003ctd\u003e856.750000\u003c/td\u003e\n",
              "      \u003ctd\u003e100.4\u003c/td\u003e\n",
              "      \u003ctd\u003e895.750000\u003c/td\u003e\n",
              "      \u003ctd\u003e515.750000\u003c/td\u003e\n",
              "      \u003ctd\u003e30.000000\u003c/td\u003e\n",
              "      \u003ctd\u003e11.075000\u003c/td\u003e\n",
              "      \u003ctd\u003e0.462436\u003c/td\u003e\n",
              "    \u003c/tr\u003e\n",
              "    \u003ctr\u003e\n",
              "      \u003cth\u003e9334\u003c/th\u003e\n",
              "      \u003ctd\u003e2005-04-03\u003c/td\u003e\n",
              "      \u003ctd\u003e16:00:00\u003c/td\u003e\n",
              "      \u003ctd\u003e1.3\u003c/td\u003e\n",
              "      \u003ctd\u003e967.500000\u003c/td\u003e\n",
              "      \u003ctd\u003e-200\u003c/td\u003e\n",
              "      \u003ctd\u003e6.313819\u003c/td\u003e\n",
              "      \u003ctd\u003e826.250000\u003c/td\u003e\n",
              "      \u003ctd\u003e197.3\u003c/td\u003e\n",
              "      \u003ctd\u003e866.500000\u003c/td\u003e\n",
              "      \u003ctd\u003e132.0\u003c/td\u003e\n",
              "      \u003ctd\u003e898.250000\u003c/td\u003e\n",
              "      \u003ctd\u003e548.000000\u003c/td\u003e\n",
              "      \u003ctd\u003e29.425000\u003c/td\u003e\n",
              "      \u003ctd\u003e10.375000\u003c/td\u003e\n",
              "      \u003ctd\u003e0.419179\u003c/td\u003e\n",
              "    \u003c/tr\u003e\n",
              "    \u003ctr\u003e\n",
              "      \u003cth\u003e9335\u003c/th\u003e\n",
              "      \u003ctd\u003e2005-04-03\u003c/td\u003e\n",
              "      \u003ctd\u003e17:00:00\u003c/td\u003e\n",
              "      \u003ctd\u003e1.4\u003c/td\u003e\n",
              "      \u003ctd\u003e952.500000\u003c/td\u003e\n",
              "      \u003ctd\u003e-200\u003c/td\u003e\n",
              "      \u003ctd\u003e6.101377\u003c/td\u003e\n",
              "      \u003ctd\u003e816.500000\u003c/td\u003e\n",
              "      \u003ctd\u003e241.8\u003c/td\u003e\n",
              "      \u003ctd\u003e871.500000\u003c/td\u003e\n",
              "      \u003ctd\u003e156.3\u003c/td\u003e\n",
              "      \u003ctd\u003e891.000000\u003c/td\u003e\n",
              "      \u003ctd\u003e603.250000\u003c/td\u003e\n",
              "      \u003ctd\u003e28.875000\u003c/td\u003e\n",
              "      \u003ctd\u003e9.875000\u003c/td\u003e\n",
              "      \u003ctd\u003e0.386566\u003c/td\u003e\n",
              "    \u003c/tr\u003e\n",
              "    \u003ctr\u003e\n",
              "      \u003cth\u003e9336\u003c/th\u003e\n",
              "      \u003ctd\u003e2005-04-03\u003c/td\u003e\n",
              "      \u003ctd\u003e18:00:00\u003c/td\u003e\n",
              "      \u003ctd\u003e1.2\u003c/td\u003e\n",
              "      \u003ctd\u003e1014.666667\u003c/td\u003e\n",
              "      \u003ctd\u003e-200\u003c/td\u003e\n",
              "      \u003ctd\u003e4.594689\u003c/td\u003e\n",
              "      \u003ctd\u003e742.666667\u003c/td\u003e\n",
              "      \u003ctd\u003e190.1\u003c/td\u003e\n",
              "      \u003ctd\u003e850.666667\u003c/td\u003e\n",
              "      \u003ctd\u003e137.9\u003c/td\u003e\n",
              "      \u003ctd\u003e980.666667\u003c/td\u003e\n",
              "      \u003ctd\u003e597.333333\u003c/td\u003e\n",
              "      \u003ctd\u003e22.800001\u003c/td\u003e\n",
              "      \u003ctd\u003e21.699999\u003c/td\u003e\n",
              "      \u003ctd\u003e0.594491\u003c/td\u003e\n",
              "    \u003c/tr\u003e\n",
              "    \u003ctr\u003e\n",
              "      \u003cth\u003e9337\u003c/th\u003e\n",
              "      \u003ctd\u003e2005-04-03\u003c/td\u003e\n",
              "      \u003ctd\u003e19:00:00\u003c/td\u003e\n",
              "      \u003ctd\u003e2.7\u003c/td\u003e\n",
              "      \u003ctd\u003e1248.000000\u003c/td\u003e\n",
              "      \u003ctd\u003e-200\u003c/td\u003e\n",
              "      \u003ctd\u003e11.109658\u003c/td\u003e\n",
              "      \u003ctd\u003e1018.250000\u003c/td\u003e\n",
              "      \u003ctd\u003e367.4\u003c/td\u003e\n",
              "      \u003ctd\u003e598.750000\u003c/td\u003e\n",
              "      \u003ctd\u003e181.3\u003c/td\u003e\n",
              "      \u003ctd\u003e1289.250000\u003c/td\u003e\n",
              "      \u003ctd\u003e1167.000000\u003c/td\u003e\n",
              "      \u003ctd\u003e19.925000\u003c/td\u003e\n",
              "      \u003ctd\u003e33.050000\u003c/td\u003e\n",
              "      \u003ctd\u003e0.760784\u003c/td\u003e\n",
              "    \u003c/tr\u003e\n",
              "    \u003ctr\u003e\n",
              "      \u003cth\u003e9338\u003c/th\u003e\n",
              "      \u003ctd\u003e2005-04-03\u003c/td\u003e\n",
              "      \u003ctd\u003e20:00:00\u003c/td\u003e\n",
              "      \u003ctd\u003e2.5\u003c/td\u003e\n",
              "      \u003ctd\u003e1180.250000\u003c/td\u003e\n",
              "      \u003ctd\u003e-200\u003c/td\u003e\n",
              "      \u003ctd\u003e7.868564\u003c/td\u003e\n",
              "      \u003ctd\u003e893.750000\u003c/td\u003e\n",
              "      \u003ctd\u003e355.0\u003c/td\u003e\n",
              "      \u003ctd\u003e636.250000\u003c/td\u003e\n",
              "      \u003ctd\u003e186.8\u003c/td\u003e\n",
              "      \u003ctd\u003e1200.250000\u003c/td\u003e\n",
              "      \u003ctd\u003e1371.750000\u003c/td\u003e\n",
              "      \u003ctd\u003e17.500000\u003c/td\u003e\n",
              "      \u003ctd\u003e40.724999\u003c/td\u003e\n",
              "      \u003ctd\u003e0.807281\u003c/td\u003e\n",
              "    \u003c/tr\u003e\n",
              "    \u003ctr\u003e\n",
              "      \u003cth\u003e9339\u003c/th\u003e\n",
              "      \u003ctd\u003e2005-04-03\u003c/td\u003e\n",
              "      \u003ctd\u003e21:00:00\u003c/td\u003e\n",
              "      \u003ctd\u003e1.5\u003c/td\u003e\n",
              "      \u003ctd\u003e1101.750000\u003c/td\u003e\n",
              "      \u003ctd\u003e-200\u003c/td\u003e\n",
              "      \u003ctd\u003e5.999005\u003c/td\u003e\n",
              "      \u003ctd\u003e811.750000\u003c/td\u003e\n",
              "      \u003ctd\u003e235.2\u003c/td\u003e\n",
              "      \u003ctd\u003e692.750000\u003c/td\u003e\n",
              "      \u003ctd\u003e157.8\u003c/td\u003e\n",
              "      \u003ctd\u003e1178.000000\u003c/td\u003e\n",
              "      \u003ctd\u003e1042.250000\u003c/td\u003e\n",
              "      \u003ctd\u003e16.450000\u003c/td\u003e\n",
              "      \u003ctd\u003e46.550000\u003c/td\u003e\n",
              "      \u003ctd\u003e0.864238\u003c/td\u003e\n",
              "    \u003c/tr\u003e\n",
              "    \u003ctr\u003e\n",
              "      \u003cth\u003e9340\u003c/th\u003e\n",
              "      \u003ctd\u003e2005-04-03\u003c/td\u003e\n",
              "      \u003ctd\u003e22:00:00\u003c/td\u003e\n",
              "      \u003ctd\u003e1.6\u003c/td\u003e\n",
              "      \u003ctd\u003e1115.500000\u003c/td\u003e\n",
              "      \u003ctd\u003e-200\u003c/td\u003e\n",
              "      \u003ctd\u003e5.817660\u003c/td\u003e\n",
              "      \u003ctd\u003e803.250000\u003c/td\u003e\n",
              "      \u003ctd\u003e232.7\u003c/td\u003e\n",
              "      \u003ctd\u003e696.250000\u003c/td\u003e\n",
              "      \u003ctd\u003e153.2\u003c/td\u003e\n",
              "      \u003ctd\u003e1173.000000\u003c/td\u003e\n",
              "      \u003ctd\u003e1055.000000\u003c/td\u003e\n",
              "      \u003ctd\u003e15.525000\u003c/td\u003e\n",
              "      \u003ctd\u003e48.975000\u003c/td\u003e\n",
              "      \u003ctd\u003e0.857933\u003c/td\u003e\n",
              "    \u003c/tr\u003e\n",
              "    \u003ctr\u003e\n",
              "      \u003cth\u003e9341\u003c/th\u003e\n",
              "      \u003ctd\u003e2005-04-03\u003c/td\u003e\n",
              "      \u003ctd\u003e23:00:00\u003c/td\u003e\n",
              "      \u003ctd\u003e1.2\u003c/td\u003e\n",
              "      \u003ctd\u003e1099.750000\u003c/td\u003e\n",
              "      \u003ctd\u003e-200\u003c/td\u003e\n",
              "      \u003ctd\u003e5.106145\u003c/td\u003e\n",
              "      \u003ctd\u003e768.750000\u003c/td\u003e\n",
              "      \u003ctd\u003e170.1\u003c/td\u003e\n",
              "      \u003ctd\u003e721.750000\u003c/td\u003e\n",
              "      \u003ctd\u003e127.6\u003c/td\u003e\n",
              "      \u003ctd\u003e1146.750000\u003c/td\u003e\n",
              "      \u003ctd\u003e1049.000000\u003c/td\u003e\n",
              "      \u003ctd\u003e14.275000\u003c/td\u003e\n",
              "      \u003ctd\u003e52.500000\u003c/td\u003e\n",
              "      \u003ctd\u003e0.849727\u003c/td\u003e\n",
              "    \u003c/tr\u003e\n",
              "    \u003ctr\u003e\n",
              "      \u003cth\u003e9342\u003c/th\u003e\n",
              "      \u003ctd\u003e2005-04-04\u003c/td\u003e\n",
              "      \u003ctd\u003e00:00:00\u003c/td\u003e\n",
              "      \u003ctd\u003e0.9\u003c/td\u003e\n",
              "      \u003ctd\u003e1012.000000\u003c/td\u003e\n",
              "      \u003ctd\u003e-200\u003c/td\u003e\n",
              "      \u003ctd\u003e3.504006\u003c/td\u003e\n",
              "      \u003ctd\u003e682.500000\u003c/td\u003e\n",
              "      \u003ctd\u003e117.2\u003c/td\u003e\n",
              "      \u003ctd\u003e800.750000\u003c/td\u003e\n",
              "      \u003ctd\u003e93.0\u003c/td\u003e\n",
              "      \u003ctd\u003e1072.500000\u003c/td\u003e\n",
              "      \u003ctd\u003e816.250000\u003c/td\u003e\n",
              "      \u003ctd\u003e14.175000\u003c/td\u003e\n",
              "      \u003ctd\u003e51.450000\u003c/td\u003e\n",
              "      \u003ctd\u003e0.827454\u003c/td\u003e\n",
              "    \u003c/tr\u003e\n",
              "    \u003ctr\u003e\n",
              "      \u003cth\u003e9343\u003c/th\u003e\n",
              "      \u003ctd\u003e2005-04-04\u003c/td\u003e\n",
              "      \u003ctd\u003e01:00:00\u003c/td\u003e\n",
              "      \u003ctd\u003e0.6\u003c/td\u003e\n",
              "      \u003ctd\u003e944.250000\u003c/td\u003e\n",
              "      \u003ctd\u003e-200\u003c/td\u003e\n",
              "      \u003ctd\u003e1.931932\u003c/td\u003e\n",
              "      \u003ctd\u003e579.000000\u003c/td\u003e\n",
              "      \u003ctd\u003e69.6\u003c/td\u003e\n",
              "      \u003ctd\u003e924.750000\u003c/td\u003e\n",
              "      \u003ctd\u003e58.3\u003c/td\u003e\n",
              "      \u003ctd\u003e1001.750000\u003c/td\u003e\n",
              "      \u003ctd\u003e598.250000\u003c/td\u003e\n",
              "      \u003ctd\u003e13.850000\u003c/td\u003e\n",
              "      \u003ctd\u003e51.150001\u003c/td\u003e\n",
              "      \u003ctd\u003e0.805778\u003c/td\u003e\n",
              "    \u003c/tr\u003e\n",
              "    \u003ctr\u003e\n",
              "      \u003cth\u003e9344\u003c/th\u003e\n",
              "      \u003ctd\u003e2005-04-04\u003c/td\u003e\n",
              "      \u003ctd\u003e02:00:00\u003c/td\u003e\n",
              "      \u003ctd\u003e0.5\u003c/td\u003e\n",
              "      \u003ctd\u003e911.750000\u003c/td\u003e\n",
              "      \u003ctd\u003e-200\u003c/td\u003e\n",
              "      \u003ctd\u003e1.489323\u003c/td\u003e\n",
              "      \u003ctd\u003e543.750000\u003c/td\u003e\n",
              "      \u003ctd\u003e69.0\u003c/td\u003e\n",
              "      \u003ctd\u003e958.500000\u003c/td\u003e\n",
              "      \u003ctd\u003e54.6\u003c/td\u003e\n",
              "      \u003ctd\u003e1002.000000\u003c/td\u003e\n",
              "      \u003ctd\u003e573.000000\u003c/td\u003e\n",
              "      \u003ctd\u003e12.100000\u003c/td\u003e\n",
              "      \u003ctd\u003e56.300000\u003c/td\u003e\n",
              "      \u003ctd\u003e0.792730\u003c/td\u003e\n",
              "    \u003c/tr\u003e\n",
              "    \u003ctr\u003e\n",
              "      \u003cth\u003e9345\u003c/th\u003e\n",
              "      \u003ctd\u003e2005-04-04\u003c/td\u003e\n",
              "      \u003ctd\u003e03:00:00\u003c/td\u003e\n",
              "      \u003ctd\u003e0.4\u003c/td\u003e\n",
              "      \u003ctd\u003e887.000000\u003c/td\u003e\n",
              "      \u003ctd\u003e-200\u003c/td\u003e\n",
              "      \u003ctd\u003e1.086365\u003c/td\u003e\n",
              "      \u003ctd\u003e507.500000\u003c/td\u003e\n",
              "      \u003ctd\u003e61.7\u003c/td\u003e\n",
              "      \u003ctd\u003e1046.500000\u003c/td\u003e\n",
              "      \u003ctd\u003e51.3\u003c/td\u003e\n",
              "      \u003ctd\u003e973.500000\u003c/td\u003e\n",
              "      \u003ctd\u003e548.750000\u003c/td\u003e\n",
              "      \u003ctd\u003e11.325000\u003c/td\u003e\n",
              "      \u003ctd\u003e58.899999\u003c/td\u003e\n",
              "      \u003ctd\u003e0.788769\u003c/td\u003e\n",
              "    \u003c/tr\u003e\n",
              "    \u003ctr\u003e\n",
              "      \u003cth\u003e9346\u003c/th\u003e\n",
              "      \u003ctd\u003e2005-04-04\u003c/td\u003e\n",
              "      \u003ctd\u003e04:00:00\u003c/td\u003e\n",
              "      \u003ctd\u003e-200.0\u003c/td\u003e\n",
              "      \u003ctd\u003e864.250000\u003c/td\u003e\n",
              "      \u003ctd\u003e-200\u003c/td\u003e\n",
              "      \u003ctd\u003e0.801504\u003c/td\u003e\n",
              "      \u003ctd\u003e478.250000\u003c/td\u003e\n",
              "      \u003ctd\u003e52.3\u003c/td\u003e\n",
              "      \u003ctd\u003e1116.000000\u003c/td\u003e\n",
              "      \u003ctd\u003e42.5\u003c/td\u003e\n",
              "      \u003ctd\u003e958.250000\u003c/td\u003e\n",
              "      \u003ctd\u003e488.750000\u003c/td\u003e\n",
              "      \u003ctd\u003e11.825000\u003c/td\u003e\n",
              "      \u003ctd\u003e55.975000\u003c/td\u003e\n",
              "      \u003ctd\u003e0.774275\u003c/td\u003e\n",
              "    \u003c/tr\u003e\n",
              "    \u003ctr\u003e\n",
              "      \u003cth\u003e9347\u003c/th\u003e\n",
              "      \u003ctd\u003e2005-04-04\u003c/td\u003e\n",
              "      \u003ctd\u003e05:00:00\u003c/td\u003e\n",
              "      \u003ctd\u003e0.5\u003c/td\u003e\n",
              "      \u003ctd\u003e888.250000\u003c/td\u003e\n",
              "      \u003ctd\u003e-200\u003c/td\u003e\n",
              "      \u003ctd\u003e1.307608\u003c/td\u003e\n",
              "      \u003ctd\u003e528.000000\u003c/td\u003e\n",
              "      \u003ctd\u003e76.5\u003c/td\u003e\n",
              "      \u003ctd\u003e1076.500000\u003c/td\u003e\n",
              "      \u003ctd\u003e53.1\u003c/td\u003e\n",
              "      \u003ctd\u003e987.000000\u003c/td\u003e\n",
              "      \u003ctd\u003e577.500000\u003c/td\u003e\n",
              "      \u003ctd\u003e10.400000\u003c/td\u003e\n",
              "      \u003ctd\u003e59.875000\u003c/td\u003e\n",
              "      \u003ctd\u003e0.754964\u003c/td\u003e\n",
              "    \u003c/tr\u003e\n",
              "    \u003ctr\u003e\n",
              "      \u003cth\u003e9348\u003c/th\u003e\n",
              "      \u003ctd\u003e2005-04-04\u003c/td\u003e\n",
              "      \u003ctd\u003e06:00:00\u003c/td\u003e\n",
              "      \u003ctd\u003e1.1\u003c/td\u003e\n",
              "      \u003ctd\u003e1030.500000\u003c/td\u003e\n",
              "      \u003ctd\u003e-200\u003c/td\u003e\n",
              "      \u003ctd\u003e4.359341\u003c/td\u003e\n",
              "      \u003ctd\u003e730.250000\u003c/td\u003e\n",
              "      \u003ctd\u003e182.2\u003c/td\u003e\n",
              "      \u003ctd\u003e760.000000\u003c/td\u003e\n",
              "      \u003ctd\u003e93.0\u003c/td\u003e\n",
              "      \u003ctd\u003e1129.000000\u003c/td\u003e\n",
              "      \u003ctd\u003e905.000000\u003c/td\u003e\n",
              "      \u003ctd\u003e9.550000\u003c/td\u003e\n",
              "      \u003ctd\u003e63.150000\u003c/td\u003e\n",
              "      \u003ctd\u003e0.753129\u003c/td\u003e\n",
              "    \u003c/tr\u003e\n",
              "    \u003ctr\u003e\n",
              "      \u003cth\u003e9349\u003c/th\u003e\n",
              "      \u003ctd\u003e2005-04-04\u003c/td\u003e\n",
              "      \u003ctd\u003e07:00:00\u003c/td\u003e\n",
              "      \u003ctd\u003e4.0\u003c/td\u003e\n",
              "      \u003ctd\u003e1383.500000\u003c/td\u003e\n",
              "      \u003ctd\u003e-200\u003c/td\u003e\n",
              "      \u003ctd\u003e17.364240\u003c/td\u003e\n",
              "      \u003ctd\u003e1220.750000\u003c/td\u003e\n",
              "      \u003ctd\u003e593.7\u003c/td\u003e\n",
              "      \u003ctd\u003e470.250000\u003c/td\u003e\n",
              "      \u003ctd\u003e154.6\u003c/td\u003e\n",
              "      \u003ctd\u003e1600.000000\u003c/td\u003e\n",
              "      \u003ctd\u003e1457.250000\u003c/td\u003e\n",
              "      \u003ctd\u003e9.675000\u003c/td\u003e\n",
              "      \u003ctd\u003e61.924999\u003c/td\u003e\n",
              "      \u003ctd\u003e0.744608\u003c/td\u003e\n",
              "    \u003c/tr\u003e\n",
              "    \u003ctr\u003e\n",
              "      \u003cth\u003e9350\u003c/th\u003e\n",
              "      \u003ctd\u003e2005-04-04\u003c/td\u003e\n",
              "      \u003ctd\u003e08:00:00\u003c/td\u003e\n",
              "      \u003ctd\u003e5.0\u003c/td\u003e\n",
              "      \u003ctd\u003e1446.000000\u003c/td\u003e\n",
              "      \u003ctd\u003e-200\u003c/td\u003e\n",
              "      \u003ctd\u003e22.393233\u003c/td\u003e\n",
              "      \u003ctd\u003e1361.500000\u003c/td\u003e\n",
              "      \u003ctd\u003e586.2\u003c/td\u003e\n",
              "      \u003ctd\u003e414.750000\u003c/td\u003e\n",
              "      \u003ctd\u003e173.6\u003c/td\u003e\n",
              "      \u003ctd\u003e1776.500000\u003c/td\u003e\n",
              "      \u003ctd\u003e1704.500000\u003c/td\u003e\n",
              "      \u003ctd\u003e13.550000\u003c/td\u003e\n",
              "      \u003ctd\u003e48.875000\u003c/td\u003e\n",
              "      \u003ctd\u003e0.755337\u003c/td\u003e\n",
              "    \u003c/tr\u003e\n",
              "    \u003ctr\u003e\n",
              "      \u003cth\u003e9351\u003c/th\u003e\n",
              "      \u003ctd\u003e2005-04-04\u003c/td\u003e\n",
              "      \u003ctd\u003e09:00:00\u003c/td\u003e\n",
              "      \u003ctd\u003e3.9\u003c/td\u003e\n",
              "      \u003ctd\u003e1296.500000\u003c/td\u003e\n",
              "      \u003ctd\u003e-200\u003c/td\u003e\n",
              "      \u003ctd\u003e13.552393\u003c/td\u003e\n",
              "      \u003ctd\u003e1102.000000\u003c/td\u003e\n",
              "      \u003ctd\u003e522.7\u003c/td\u003e\n",
              "      \u003ctd\u003e506.750000\u003c/td\u003e\n",
              "      \u003ctd\u003e186.5\u003c/td\u003e\n",
              "      \u003ctd\u003e1375.250000\u003c/td\u003e\n",
              "      \u003ctd\u003e1582.500000\u003c/td\u003e\n",
              "      \u003ctd\u003e18.150001\u003c/td\u003e\n",
              "      \u003ctd\u003e36.275001\u003c/td\u003e\n",
              "      \u003ctd\u003e0.748652\u003c/td\u003e\n",
              "    \u003c/tr\u003e\n",
              "    \u003ctr\u003e\n",
              "      \u003cth\u003e9352\u003c/th\u003e\n",
              "      \u003ctd\u003e2005-04-04\u003c/td\u003e\n",
              "      \u003ctd\u003e10:00:00\u003c/td\u003e\n",
              "      \u003ctd\u003e3.1\u003c/td\u003e\n",
              "      \u003ctd\u003e1314.250000\u003c/td\u003e\n",
              "      \u003ctd\u003e-200\u003c/td\u003e\n",
              "      \u003ctd\u003e13.529605\u003c/td\u003e\n",
              "      \u003ctd\u003e1101.250000\u003c/td\u003e\n",
              "      \u003ctd\u003e471.7\u003c/td\u003e\n",
              "      \u003ctd\u003e538.500000\u003c/td\u003e\n",
              "      \u003ctd\u003e189.8\u003c/td\u003e\n",
              "      \u003ctd\u003e1374.250000\u003c/td\u003e\n",
              "      \u003ctd\u003e1728.500000\u003c/td\u003e\n",
              "      \u003ctd\u003e21.850000\u003c/td\u003e\n",
              "      \u003ctd\u003e29.250000\u003c/td\u003e\n",
              "      \u003ctd\u003e0.756824\u003c/td\u003e\n",
              "    \u003c/tr\u003e\n",
              "    \u003ctr\u003e\n",
              "      \u003cth\u003e9353\u003c/th\u003e\n",
              "      \u003ctd\u003e2005-04-04\u003c/td\u003e\n",
              "      \u003ctd\u003e11:00:00\u003c/td\u003e\n",
              "      \u003ctd\u003e2.4\u003c/td\u003e\n",
              "      \u003ctd\u003e1162.500000\u003c/td\u003e\n",
              "      \u003ctd\u003e-200\u003c/td\u003e\n",
              "      \u003ctd\u003e11.355157\u003c/td\u003e\n",
              "      \u003ctd\u003e1027.000000\u003c/td\u003e\n",
              "      \u003ctd\u003e353.3\u003c/td\u003e\n",
              "      \u003ctd\u003e603.750000\u003c/td\u003e\n",
              "      \u003ctd\u003e179.2\u003c/td\u003e\n",
              "      \u003ctd\u003e1263.500000\u003c/td\u003e\n",
              "      \u003ctd\u003e1269.000000\u003c/td\u003e\n",
              "      \u003ctd\u003e24.325000\u003c/td\u003e\n",
              "      \u003ctd\u003e23.725000\u003c/td\u003e\n",
              "      \u003ctd\u003e0.711864\u003c/td\u003e\n",
              "    \u003c/tr\u003e\n",
              "    \u003ctr\u003e\n",
              "      \u003cth\u003e9354\u003c/th\u003e\n",
              "      \u003ctd\u003e2005-04-04\u003c/td\u003e\n",
              "      \u003ctd\u003e12:00:00\u003c/td\u003e\n",
              "      \u003ctd\u003e2.4\u003c/td\u003e\n",
              "      \u003ctd\u003e1142.000000\u003c/td\u003e\n",
              "      \u003ctd\u003e-200\u003c/td\u003e\n",
              "      \u003ctd\u003e12.374538\u003c/td\u003e\n",
              "      \u003ctd\u003e1062.500000\u003c/td\u003e\n",
              "      \u003ctd\u003e293.0\u003c/td\u003e\n",
              "      \u003ctd\u003e603.250000\u003c/td\u003e\n",
              "      \u003ctd\u003e174.7\u003c/td\u003e\n",
              "      \u003ctd\u003e1240.750000\u003c/td\u003e\n",
              "      \u003ctd\u003e1092.000000\u003c/td\u003e\n",
              "      \u003ctd\u003e26.900000\u003c/td\u003e\n",
              "      \u003ctd\u003e18.350000\u003c/td\u003e\n",
              "      \u003ctd\u003e0.640649\u003c/td\u003e\n",
              "    \u003c/tr\u003e\n",
              "    \u003ctr\u003e\n",
              "      \u003cth\u003e9355\u003c/th\u003e\n",
              "      \u003ctd\u003e2005-04-04\u003c/td\u003e\n",
              "      \u003ctd\u003e13:00:00\u003c/td\u003e\n",
              "      \u003ctd\u003e2.1\u003c/td\u003e\n",
              "      \u003ctd\u003e1002.500000\u003c/td\u003e\n",
              "      \u003ctd\u003e-200\u003c/td\u003e\n",
              "      \u003ctd\u003e9.547187\u003c/td\u003e\n",
              "      \u003ctd\u003e960.500000\u003c/td\u003e\n",
              "      \u003ctd\u003e234.5\u003c/td\u003e\n",
              "      \u003ctd\u003e701.500000\u003c/td\u003e\n",
              "      \u003ctd\u003e155.7\u003c/td\u003e\n",
              "      \u003ctd\u003e1041.000000\u003c/td\u003e\n",
              "      \u003ctd\u003e769.750000\u003c/td\u003e\n",
              "      \u003ctd\u003e28.325000\u003c/td\u003e\n",
              "      \u003ctd\u003e13.550000\u003c/td\u003e\n",
              "      \u003ctd\u003e0.513866\u003c/td\u003e\n",
              "    \u003c/tr\u003e\n",
              "    \u003ctr\u003e\n",
              "      \u003cth\u003e9356\u003c/th\u003e\n",
              "      \u003ctd\u003e2005-04-04\u003c/td\u003e\n",
              "      \u003ctd\u003e14:00:00\u003c/td\u003e\n",
              "      \u003ctd\u003e2.2\u003c/td\u003e\n",
              "      \u003ctd\u003e1070.750000\u003c/td\u003e\n",
              "      \u003ctd\u003e-200\u003c/td\u003e\n",
              "      \u003ctd\u003e11.932060\u003c/td\u003e\n",
              "      \u003ctd\u003e1047.250000\u003c/td\u003e\n",
              "      \u003ctd\u003e265.2\u003c/td\u003e\n",
              "      \u003ctd\u003e654.000000\u003c/td\u003e\n",
              "      \u003ctd\u003e167.7\u003c/td\u003e\n",
              "      \u003ctd\u003e1128.500000\u003c/td\u003e\n",
              "      \u003ctd\u003e816.000000\u003c/td\u003e\n",
              "      \u003ctd\u003e28.500000\u003c/td\u003e\n",
              "      \u003ctd\u003e13.125000\u003c/td\u003e\n",
              "      \u003ctd\u003e0.502804\u003c/td\u003e\n",
              "    \u003c/tr\u003e\n",
              "  \u003c/tbody\u003e\n",
              "\u003c/table\u003e\n",
              "\u003cp\u003e9357 rows × 15 columns\u003c/p\u003e\n",
              "\u003c/div\u003e"
            ],
            "text/plain": [
              "           Date      Time  CO(GT)  PT08.S1(CO)  NMHC(GT)   C6H6(GT)  \\\n",
              "0    2004-03-10  18:00:00     2.6  1360.000000       150  11.881723   \n",
              "1    2004-03-10  19:00:00     2.0  1292.250000       112   9.397165   \n",
              "2    2004-03-10  20:00:00     2.2  1402.000000        88   8.997817   \n",
              "3    2004-03-10  21:00:00     2.2  1375.500000        80   9.228796   \n",
              "4    2004-03-10  22:00:00     1.6  1272.250000        51   6.518224   \n",
              "5    2004-03-10  23:00:00     1.2  1197.000000        38   4.741012   \n",
              "6    2004-03-11  00:00:00     1.2  1185.000000        31   3.624399   \n",
              "7    2004-03-11  01:00:00     1.0  1136.250000        31   3.326677   \n",
              "8    2004-03-11  02:00:00     0.9  1094.000000        24   2.339416   \n",
              "9    2004-03-11  03:00:00     0.6  1009.750000        19   1.696658   \n",
              "10   2004-03-11  04:00:00  -200.0  1011.000000        14   1.293620   \n",
              "11   2004-03-11  05:00:00     0.7  1066.000000         8   1.133431   \n",
              "12   2004-03-11  06:00:00     0.7  1051.750000        16   1.603768   \n",
              "13   2004-03-11  07:00:00     1.1  1144.000000        29   3.243618   \n",
              "14   2004-03-11  08:00:00     2.0  1333.250000        64   8.013773   \n",
              "15   2004-03-11  09:00:00     2.2  1351.000000        87   9.540643   \n",
              "16   2004-03-11  10:00:00     1.7  1233.250000        77   6.335782   \n",
              "17   2004-03-11  11:00:00     1.5  1178.750000        43   4.971584   \n",
              "18   2004-03-11  12:00:00     1.6  1236.000000        61   5.216919   \n",
              "19   2004-03-11  13:00:00     1.9  1285.500000        63   7.269933   \n",
              "20   2004-03-11  14:00:00     2.9  1371.000000       164  11.539007   \n",
              "21   2004-03-11  15:00:00     2.2  1310.000000        79   8.826223   \n",
              "22   2004-03-11  16:00:00     2.2  1291.750000        95   8.301413   \n",
              "23   2004-03-11  17:00:00     2.9  1383.000000       150  11.151581   \n",
              "24   2004-03-11  18:00:00     4.8  1580.750000       307  20.799217   \n",
              "25   2004-03-11  19:00:00     6.9  1775.500000       461  27.359807   \n",
              "26   2004-03-11  20:00:00     6.1  1640.000000       401  24.017757   \n",
              "27   2004-03-11  21:00:00     3.9  1312.750000       197  12.779368   \n",
              "28   2004-03-11  22:00:00     1.5   964.500000        61   4.707072   \n",
              "29   2004-03-11  23:00:00     1.0   912.750000        26   2.645722   \n",
              "...         ...       ...     ...          ...       ...        ...   \n",
              "9327 2005-04-03  09:00:00     1.2  1022.250000      -200   4.082095   \n",
              "9328 2005-04-03  10:00:00     1.4   970.250000      -200   3.402194   \n",
              "9329 2005-04-03  11:00:00     1.3   999.750000      -200   5.313402   \n",
              "9330 2005-04-03  12:00:00     1.4   996.000000      -200   5.349138   \n",
              "9331 2005-04-03  13:00:00     1.0   928.000000      -200   3.817080   \n",
              "9332 2005-04-03  14:00:00     1.0   932.750000      -200   4.201281   \n",
              "9333 2005-04-03  15:00:00     1.1   956.000000      -200   5.395234   \n",
              "9334 2005-04-03  16:00:00     1.3   967.500000      -200   6.313819   \n",
              "9335 2005-04-03  17:00:00     1.4   952.500000      -200   6.101377   \n",
              "9336 2005-04-03  18:00:00     1.2  1014.666667      -200   4.594689   \n",
              "9337 2005-04-03  19:00:00     2.7  1248.000000      -200  11.109658   \n",
              "9338 2005-04-03  20:00:00     2.5  1180.250000      -200   7.868564   \n",
              "9339 2005-04-03  21:00:00     1.5  1101.750000      -200   5.999005   \n",
              "9340 2005-04-03  22:00:00     1.6  1115.500000      -200   5.817660   \n",
              "9341 2005-04-03  23:00:00     1.2  1099.750000      -200   5.106145   \n",
              "9342 2005-04-04  00:00:00     0.9  1012.000000      -200   3.504006   \n",
              "9343 2005-04-04  01:00:00     0.6   944.250000      -200   1.931932   \n",
              "9344 2005-04-04  02:00:00     0.5   911.750000      -200   1.489323   \n",
              "9345 2005-04-04  03:00:00     0.4   887.000000      -200   1.086365   \n",
              "9346 2005-04-04  04:00:00  -200.0   864.250000      -200   0.801504   \n",
              "9347 2005-04-04  05:00:00     0.5   888.250000      -200   1.307608   \n",
              "9348 2005-04-04  06:00:00     1.1  1030.500000      -200   4.359341   \n",
              "9349 2005-04-04  07:00:00     4.0  1383.500000      -200  17.364240   \n",
              "9350 2005-04-04  08:00:00     5.0  1446.000000      -200  22.393233   \n",
              "9351 2005-04-04  09:00:00     3.9  1296.500000      -200  13.552393   \n",
              "9352 2005-04-04  10:00:00     3.1  1314.250000      -200  13.529605   \n",
              "9353 2005-04-04  11:00:00     2.4  1162.500000      -200  11.355157   \n",
              "9354 2005-04-04  12:00:00     2.4  1142.000000      -200  12.374538   \n",
              "9355 2005-04-04  13:00:00     2.1  1002.500000      -200   9.547187   \n",
              "9356 2005-04-04  14:00:00     2.2  1070.750000      -200  11.932060   \n",
              "\n",
              "      PT08.S2(NMHC)  NOx(GT)  PT08.S3(NOx)  NO2(GT)  PT08.S4(NO2)  \\\n",
              "0       1045.500000    166.0   1056.250000    113.0   1692.000000   \n",
              "1        954.750000    103.0   1173.750000     92.0   1558.750000   \n",
              "2        939.250000    131.0   1140.000000    114.0   1554.500000   \n",
              "3        948.250000    172.0   1092.000000    122.0   1583.750000   \n",
              "4        835.500000    131.0   1205.000000    116.0   1490.000000   \n",
              "5        750.250000     89.0   1336.500000     96.0   1393.000000   \n",
              "6        689.500000     62.0   1461.750000     77.0   1332.750000   \n",
              "7        672.000000     62.0   1453.250000     76.0   1332.750000   \n",
              "8        608.500000     45.0   1579.000000     60.0   1276.000000   \n",
              "9        560.750000   -200.0   1705.000000   -200.0   1234.750000   \n",
              "10       526.750000     21.0   1817.500000     34.0   1196.750000   \n",
              "11       512.000000     16.0   1918.000000     28.0   1182.000000   \n",
              "12       553.250000     34.0   1738.250000     48.0   1221.250000   \n",
              "13       667.000000     98.0   1489.750000     82.0   1339.000000   \n",
              "14       899.750000    174.0   1136.000000    112.0   1517.000000   \n",
              "15       960.250000    129.0   1079.000000    101.0   1582.750000   \n",
              "16       827.250000    112.0   1218.000000     98.0   1445.750000   \n",
              "17       762.000000     95.0   1327.500000     92.0   1361.750000   \n",
              "18       774.250000    104.0   1301.250000     95.0   1401.250000   \n",
              "19       868.500000    146.0   1162.250000    112.0   1536.750000   \n",
              "20      1033.500000    207.0    983.250000    128.0   1730.250000   \n",
              "21       932.500000    184.0   1081.750000    126.0   1646.500000   \n",
              "22       911.500000    193.0   1102.500000    131.0   1590.750000   \n",
              "23      1019.750000    243.0   1008.000000    135.0   1718.750000   \n",
              "24      1318.500000    281.0    798.500000    151.0   2083.000000   \n",
              "25      1487.750000    383.0    702.250000    172.0   2332.500000   \n",
              "26      1404.000000    351.0    742.750000    165.0   2191.250000   \n",
              "27      1076.250000    240.0    957.250000    136.0   1706.500000   \n",
              "28       748.500000     94.0   1325.250000     85.0   1332.500000   \n",
              "29       629.250000     47.0   1564.500000     53.0   1252.250000   \n",
              "...             ...      ...           ...      ...           ...   \n",
              "9327     715.250000    191.9    806.000000    118.0   1004.250000   \n",
              "9328     676.500000    166.4    887.500000    113.2    930.500000   \n",
              "9329     779.000000    171.3    804.500000    115.0   1000.750000   \n",
              "9330     780.750000    177.0    806.000000    123.9    985.250000   \n",
              "9331     700.500000    118.7    925.750000     86.4    902.000000   \n",
              "9332     721.750000    120.6    898.750000     87.0    889.500000   \n",
              "9333     783.000000    141.9    856.750000    100.4    895.750000   \n",
              "9334     826.250000    197.3    866.500000    132.0    898.250000   \n",
              "9335     816.500000    241.8    871.500000    156.3    891.000000   \n",
              "9336     742.666667    190.1    850.666667    137.9    980.666667   \n",
              "9337    1018.250000    367.4    598.750000    181.3   1289.250000   \n",
              "9338     893.750000    355.0    636.250000    186.8   1200.250000   \n",
              "9339     811.750000    235.2    692.750000    157.8   1178.000000   \n",
              "9340     803.250000    232.7    696.250000    153.2   1173.000000   \n",
              "9341     768.750000    170.1    721.750000    127.6   1146.750000   \n",
              "9342     682.500000    117.2    800.750000     93.0   1072.500000   \n",
              "9343     579.000000     69.6    924.750000     58.3   1001.750000   \n",
              "9344     543.750000     69.0    958.500000     54.6   1002.000000   \n",
              "9345     507.500000     61.7   1046.500000     51.3    973.500000   \n",
              "9346     478.250000     52.3   1116.000000     42.5    958.250000   \n",
              "9347     528.000000     76.5   1076.500000     53.1    987.000000   \n",
              "9348     730.250000    182.2    760.000000     93.0   1129.000000   \n",
              "9349    1220.750000    593.7    470.250000    154.6   1600.000000   \n",
              "9350    1361.500000    586.2    414.750000    173.6   1776.500000   \n",
              "9351    1102.000000    522.7    506.750000    186.5   1375.250000   \n",
              "9352    1101.250000    471.7    538.500000    189.8   1374.250000   \n",
              "9353    1027.000000    353.3    603.750000    179.2   1263.500000   \n",
              "9354    1062.500000    293.0    603.250000    174.7   1240.750000   \n",
              "9355     960.500000    234.5    701.500000    155.7   1041.000000   \n",
              "9356    1047.250000    265.2    654.000000    167.7   1128.500000   \n",
              "\n",
              "      PT08.S5(O3)          T         RH        AH  \n",
              "0     1267.500000  13.600000  48.875001  0.757754  \n",
              "1      972.250000  13.300000  47.700000  0.725487  \n",
              "2     1074.000000  11.900000  53.975000  0.750239  \n",
              "3     1203.250000  11.000000  60.000000  0.786713  \n",
              "4     1110.000000  11.150000  59.575001  0.788794  \n",
              "5      949.250000  11.175000  59.175000  0.784772  \n",
              "6      732.500000  11.325000  56.775000  0.760312  \n",
              "7      729.500000  10.675000  60.000000  0.770238  \n",
              "8      619.500000  10.650000  59.674999  0.764819  \n",
              "9      501.250000  10.250000  60.200001  0.751657  \n",
              "10     445.250000  10.075000  60.474999  0.746495  \n",
              "11     421.750000  11.000000  56.175000  0.736560  \n",
              "12     471.500000  10.450000  58.125000  0.735295  \n",
              "13     729.750000  10.200000  59.599999  0.741736  \n",
              "14    1101.500000  10.750000  57.425000  0.740795  \n",
              "15    1027.750000  10.500000  60.599998  0.769111  \n",
              "16     859.750000  10.800000  58.350000  0.755183  \n",
              "17     670.500000  10.500000  57.925000  0.735161  \n",
              "18     664.000000   9.525000  66.774999  0.795054  \n",
              "19     799.000000   8.300000  76.425001  0.839268  \n",
              "20    1036.500000   8.000000  81.150000  0.873589  \n",
              "21     946.250000   8.325000  79.799999  0.877784  \n",
              "22     956.750000   9.700000  71.150002  0.856938  \n",
              "23    1104.000000   9.775000  67.624998  0.818501  \n",
              "24    1408.500000  10.350000  64.174999  0.806544  \n",
              "25    1704.000000   9.650000  69.300001  0.831921  \n",
              "26    1653.750000   9.650000  67.750000  0.813314  \n",
              "27    1284.750000   9.125000  63.974999  0.741924  \n",
              "28     821.000000   8.175000  63.400000  0.690484  \n",
              "29     551.750000   8.250000  60.824999  0.665744  \n",
              "...           ...        ...        ...       ...  \n",
              "9327   830.750000  17.825000  30.675000  0.620458  \n",
              "9328   612.500000  21.125000  23.725000  0.587528  \n",
              "9329   639.500000  24.000000  19.275000  0.567283  \n",
              "9330   630.750000  26.450000  16.450000  0.559414  \n",
              "9331   455.500000  28.675000  13.700000  0.530155  \n",
              "9332   449.750000  28.475000  13.075000  0.500166  \n",
              "9333   515.750000  30.000000  11.075000  0.462436  \n",
              "9334   548.000000  29.425000  10.375000  0.419179  \n",
              "9335   603.250000  28.875000   9.875000  0.386566  \n",
              "9336   597.333333  22.800001  21.699999  0.594491  \n",
              "9337  1167.000000  19.925000  33.050000  0.760784  \n",
              "9338  1371.750000  17.500000  40.724999  0.807281  \n",
              "9339  1042.250000  16.450000  46.550000  0.864238  \n",
              "9340  1055.000000  15.525000  48.975000  0.857933  \n",
              "9341  1049.000000  14.275000  52.500000  0.849727  \n",
              "9342   816.250000  14.175000  51.450000  0.827454  \n",
              "9343   598.250000  13.850000  51.150001  0.805778  \n",
              "9344   573.000000  12.100000  56.300000  0.792730  \n",
              "9345   548.750000  11.325000  58.899999  0.788769  \n",
              "9346   488.750000  11.825000  55.975000  0.774275  \n",
              "9347   577.500000  10.400000  59.875000  0.754964  \n",
              "9348   905.000000   9.550000  63.150000  0.753129  \n",
              "9349  1457.250000   9.675000  61.924999  0.744608  \n",
              "9350  1704.500000  13.550000  48.875000  0.755337  \n",
              "9351  1582.500000  18.150001  36.275001  0.748652  \n",
              "9352  1728.500000  21.850000  29.250000  0.756824  \n",
              "9353  1269.000000  24.325000  23.725000  0.711864  \n",
              "9354  1092.000000  26.900000  18.350000  0.640649  \n",
              "9355   769.750000  28.325000  13.550000  0.513866  \n",
              "9356   816.000000  28.500000  13.125000  0.502804  \n",
              "\n",
              "[9357 rows x 15 columns]"
            ]
          },
          "execution_count": 5,
          "metadata": {},
          "output_type": "execute_result"
        }
      ],
      "source": [
        "air_data.dropna(axis\u003d0, how\u003d\u0027all\u0027)"
      ]
    },
    {
      "cell_type": "markdown",
      "metadata": {
        "pycharm": {}
      },
      "source": [
        "## Step 2. Features vs Labels"
      ]
    },
    {
      "cell_type": "code",
      "execution_count": 64,
      "metadata": {
        "collapsed": true,
        "pycharm": {}
      },
      "outputs": [],
      "source": [
        "features \u003d air_data"
      ]
    },
    {
      "cell_type": "code",
      "execution_count": 65,
      "metadata": {
        "collapsed": false,
        "pycharm": {}
      },
      "outputs": [],
      "source": [
        "features \u003d features.drop(\u0027Date\u0027, axis\u003d1)\n",
        "features \u003d features.drop(\u0027Time\u0027, axis\u003d1)\n",
        "features \u003d features.drop(\u0027C6H6(GT)\u0027, axis\u003d1)\n",
        "features \u003d features.drop(\u0027PT08.S4(NO2)\u0027, axis\u003d1)"
      ]
    },
    {
      "cell_type": "code",
      "execution_count": 66,
      "metadata": {
        "collapsed": true,
        "pycharm": {}
      },
      "outputs": [],
      "source": [
        "labels \u003d air_data[\u0027C6H6(GT)\u0027].values"
      ]
    },
    {
      "cell_type": "code",
      "execution_count": 67,
      "metadata": {
        "collapsed": false,
        "pycharm": {}
      },
      "outputs": [],
      "source": [
        "features \u003d features.values"
      ]
    },
    {
      "cell_type": "markdown",
      "metadata": {
        "pycharm": {}
      },
      "source": [
        "## Step 3. Train and test portions"
      ]
    },
    {
      "cell_type": "code",
      "execution_count": 10,
      "metadata": {
        "collapsed": true,
        "pycharm": {}
      },
      "outputs": [],
      "source": "from sklearn.model_selection import train_test_split"
    },
    {
      "cell_type": "code",
      "execution_count": 11,
      "metadata": {
        "collapsed": true,
        "pycharm": {}
      },
      "outputs": [],
      "source": [
        "X_train, X_test, y_train, y_test \u003d train_test_split(features, labels, test_size\u003d0.3)"
      ]
    },
    {
      "cell_type": "code",
      "execution_count": 12,
      "metadata": {
        "collapsed": false,
        "pycharm": {}
      },
      "outputs": [
        {
          "name": "stdout",
          "output_type": "stream",
          "text": [
            "X_trian shape --\u003e (6549, 11)\n",
            "y_train shape --\u003e (6549,)\n",
            "X_test shape --\u003e (2808, 11)\n",
            "y_test shape --\u003e (2808,)\n"
          ]
        }
      ],
      "source": [
        "print(\"X_trian shape --\u003e {}\".format(X_train.shape))\n",
        "print(\"y_train shape --\u003e {}\".format(y_train.shape))\n",
        "print(\"X_test shape --\u003e {}\".format(X_test.shape))\n",
        "print(\"y_test shape --\u003e {}\".format(y_test.shape))"
      ]
    },
    {
      "cell_type": "markdown",
      "metadata": {
        "pycharm": {}
      },
      "source": [
        "## Step 4. Regression"
      ]
    },
    {
      "cell_type": "markdown",
      "metadata": {
        "pycharm": {}
      },
      "source": [
        "### Step 4.1 Linear Regression"
      ]
    },
    {
      "cell_type": "code",
      "execution_count": 13,
      "metadata": {
        "collapsed": true,
        "pycharm": {}
      },
      "outputs": [],
      "source": [
        "from sklearn.linear_model import LinearRegression"
      ]
    },
    {
      "cell_type": "code",
      "execution_count": 14,
      "metadata": {
        "collapsed": false,
        "pycharm": {}
      },
      "outputs": [
        {
          "data": {
            "text/plain": [
              "LinearRegression(copy_X\u003dTrue, fit_intercept\u003dTrue, n_jobs\u003d1, normalize\u003dFalse)"
            ]
          },
          "execution_count": 14,
          "metadata": {},
          "output_type": "execute_result"
        }
      ],
      "source": [
        "regressor \u003d LinearRegression()\n",
        "regressor.fit(X_train, y_train)"
      ]
    },
    {
      "cell_type": "code",
      "execution_count": 15,
      "metadata": {
        "collapsed": false,
        "pycharm": {}
      },
      "outputs": [
        {
          "name": "stdout",
          "output_type": "stream",
          "text": [
            "Predicted values: [  5.14503456  27.5482771    3.72745264 ...,  16.90736721  14.82831269\n",
            "  11.49441036]\n"
          ]
        }
      ],
      "source": [
        "print(\"Predicted values:\", regressor.predict(X_test))"
      ]
    },
    {
      "cell_type": "code",
      "execution_count": 16,
      "metadata": {
        "collapsed": false,
        "pycharm": {}
      },
      "outputs": [
        {
          "name": "stdout",
          "output_type": "stream",
          "text": [
            "R^2 score for liner regression:  0.999240676116\n"
          ]
        }
      ],
      "source": [
        "print(\"R^2 score for liner regression: \", regressor.score(X_test, y_test))"
      ]
    },
    {
      "cell_type": "markdown",
      "metadata": {
        "pycharm": {}
      },
      "source": [
        "### Step 4.2  Support Vector Regression"
      ]
    },
    {
      "cell_type": "code",
      "execution_count": 17,
      "metadata": {
        "collapsed": true,
        "pycharm": {}
      },
      "outputs": [],
      "source": "from sklearn.model_selection import KFold\nfrom sklearn.svm import SVR"
    },
    {
      "cell_type": "code",
      "execution_count": 23,
      "metadata": {
        "collapsed": false,
        "pycharm": {}
      },
      "outputs": [
        {
          "data": {
            "text/plain": [
              "SVR(C\u003d1000, cache_size\u003d200, coef0\u003d0.0, degree\u003d3, epsilon\u003d0.1, gamma\u003d\u0027auto\u0027,\n",
              "  kernel\u003d\u0027rbf\u0027, max_iter\u003d-1, shrinking\u003dTrue, tol\u003d0.001, verbose\u003dFalse)"
            ]
          },
          "execution_count": 23,
          "metadata": {},
          "output_type": "execute_result"
        }
      ],
      "source": [
        "support_regressor \u003d SVR(kernel\u003d\u0027rbf\u0027, C\u003d1000)\n",
        "support_regressor.fit(X_train, y_train)"
      ]
    },
    {
      "cell_type": "code",
      "execution_count": 34,
      "metadata": {
        "collapsed": false,
        "pycharm": {}
      },
      "outputs": [
        {
          "name": "stdout",
          "output_type": "stream",
          "text": [
            "Coefficient of determination R^2 \u003c-- on train set: 0.9999937958462688\n"
          ]
        }
      ],
      "source": [
        "print(\"Coefficient of determination R^2 \u003c-- on train set: {}\".format(support_regressor.score(X_train, y_train)))"
      ]
    },
    {
      "cell_type": "code",
      "execution_count": 35,
      "metadata": {
        "collapsed": false,
        "pycharm": {}
      },
      "outputs": [
        {
          "name": "stdout",
          "output_type": "stream",
          "text": [
            "Coefficient of determination R^2 \u003c-- on test set: 0.27016076957799007\n"
          ]
        }
      ],
      "source": [
        "print(\"Coefficient of determination R^2 \u003c-- on test set: {}\".format(support_regressor.score(X_test, y_test)))"
      ]
    },
    {
      "cell_type": "markdown",
      "metadata": {
        "pycharm": {}
      },
      "source": [
        "### Step 4.3 Decision tree regression"
      ]
    },
    {
      "cell_type": "code",
      "execution_count": 28,
      "metadata": {
        "collapsed": true,
        "pycharm": {}
      },
      "outputs": [],
      "source": [
        "from sklearn.tree import DecisionTreeRegressor"
      ]
    },
    {
      "cell_type": "code",
      "execution_count": 29,
      "metadata": {
        "collapsed": false,
        "pycharm": {}
      },
      "outputs": [
        {
          "data": {
            "text/plain": [
              "DecisionTreeRegressor(criterion\u003d\u0027mse\u0027, max_depth\u003dNone, max_features\u003dNone,\n",
              "           max_leaf_nodes\u003dNone, min_samples_leaf\u003d1, min_samples_split\u003d2,\n",
              "           min_weight_fraction_leaf\u003d0.0, presort\u003dFalse, random_state\u003dNone,\n",
              "           splitter\u003d\u0027best\u0027)"
            ]
          },
          "execution_count": 29,
          "metadata": {},
          "output_type": "execute_result"
        }
      ],
      "source": [
        "dtr \u003d DecisionTreeRegressor()\n",
        "dtr.fit(X_train, y_train)"
      ]
    },
    {
      "cell_type": "code",
      "execution_count": 32,
      "metadata": {
        "collapsed": false,
        "pycharm": {}
      },
      "outputs": [
        {
          "name": "stdout",
          "output_type": "stream",
          "text": [
            "Coefficient of determination R^2 \u003c-- on train set: 1.0\n"
          ]
        }
      ],
      "source": [
        "print(\"Coefficient of determination R^2 \u003c-- on train set: {}\".format(dtr.score(X_train, y_train)))"
      ]
    },
    {
      "cell_type": "code",
      "execution_count": 33,
      "metadata": {
        "collapsed": false,
        "pycharm": {}
      },
      "outputs": [
        {
          "name": "stdout",
          "output_type": "stream",
          "text": [
            "Coefficient of determination R^2 \u003c-- on test set: 0.9999939303622412\n"
          ]
        }
      ],
      "source": [
        "print(\"Coefficient of determination R^2 \u003c-- on test set: {}\".format(dtr.score(X_test, y_test)))"
      ]
    },
    {
      "cell_type": "markdown",
      "metadata": {
        "pycharm": {}
      },
      "source": [
        "### Step 4.4 Lasso regression"
      ]
    },
    {
      "cell_type": "code",
      "execution_count": 36,
      "metadata": {
        "collapsed": true,
        "pycharm": {}
      },
      "outputs": [],
      "source": [
        "from sklearn.linear_model import Lasso"
      ]
    },
    {
      "cell_type": "code",
      "execution_count": 37,
      "metadata": {
        "collapsed": false,
        "pycharm": {}
      },
      "outputs": [
        {
          "data": {
            "text/plain": [
              "Lasso(alpha\u003d1.0, copy_X\u003dTrue, fit_intercept\u003dTrue, max_iter\u003d1000,\n",
              "   normalize\u003dFalse, positive\u003dFalse, precompute\u003dFalse, random_state\u003dNone,\n",
              "   selection\u003d\u0027cyclic\u0027, tol\u003d0.0001, warm_start\u003dFalse)"
            ]
          },
          "execution_count": 37,
          "metadata": {},
          "output_type": "execute_result"
        }
      ],
      "source": [
        "indiana_jones \u003d Lasso(alpha\u003d1.0)\n",
        "indiana_jones.fit(X_train, y_train)"
      ]
    },
    {
      "cell_type": "code",
      "execution_count": 38,
      "metadata": {
        "collapsed": false,
        "pycharm": {}
      },
      "outputs": [
        {
          "name": "stdout",
          "output_type": "stream",
          "text": [
            "Coefficient of determination R^2 \u003c-- on train set : 0.9991459260679414\n"
          ]
        }
      ],
      "source": [
        "print(\"Coefficient of determination R^2 \u003c-- on train set : {}\".format(indiana_jones.score(X_train, y_train)))"
      ]
    },
    {
      "cell_type": "code",
      "execution_count": 39,
      "metadata": {
        "collapsed": false,
        "pycharm": {}
      },
      "outputs": [
        {
          "name": "stdout",
          "output_type": "stream",
          "text": [
            "Coefficient of determination R^2 \u003c-- on test set: 0.9991512516813533\n"
          ]
        }
      ],
      "source": [
        "print(\"Coefficient of determination R^2 \u003c-- on test set: {}\".format(indiana_jones.score(X_test, y_test)))"
      ]
    },
    {
      "cell_type": "markdown",
      "metadata": {
        "pycharm": {}
      },
      "source": [
        "Indiana Jones is doing pretty good Machine Learning :O "
      ]
    },
    {
      "cell_type": "markdown",
      "metadata": {
        "pycharm": {}
      },
      "source": [
        "## Step 5. Feature selection"
      ]
    },
    {
      "cell_type": "code",
      "execution_count": 48,
      "metadata": {
        "collapsed": true,
        "pycharm": {}
      },
      "outputs": [],
      "source": [
        "from sklearn.ensemble import ExtraTreesRegressor"
      ]
    },
    {
      "cell_type": "code",
      "execution_count": 49,
      "metadata": {
        "collapsed": false,
        "pycharm": {}
      },
      "outputs": [
        {
          "data": {
            "text/plain": [
              "ExtraTreesRegressor(bootstrap\u003dFalse, criterion\u003d\u0027mse\u0027, max_depth\u003dNone,\n",
              "          max_features\u003d\u0027auto\u0027, max_leaf_nodes\u003dNone, min_samples_leaf\u003d1,\n",
              "          min_samples_split\u003d2, min_weight_fraction_leaf\u003d0.0,\n",
              "          n_estimators\u003d300, n_jobs\u003d1, oob_score\u003dFalse, random_state\u003dNone,\n",
              "          verbose\u003d0, warm_start\u003dFalse)"
            ]
          },
          "execution_count": 49,
          "metadata": {},
          "output_type": "execute_result"
        }
      ],
      "source": [
        "etr \u003d ExtraTreesRegressor(n_estimators\u003d300)\n",
        "etr.fit(X_train, y_train)"
      ]
    },
    {
      "cell_type": "code",
      "execution_count": 51,
      "metadata": {
        "collapsed": false,
        "pycharm": {}
      },
      "outputs": [
        {
          "name": "stdout",
          "output_type": "stream",
          "text": [
            "[  1.50692263e-04   1.02801235e-01   1.13069875e-05   5.57465913e-02\n",
            "   5.15179121e-04   5.98430758e-02   1.97107047e-04   5.41334100e-02\n",
            "   2.35761613e-01   2.13143582e-01   2.77696207e-01]\n"
          ]
        }
      ],
      "source": [
        "print(etr.feature_importances_)\n",
        "indecis \u003d np.argsort(etr.feature_importances_)[::-1]"
      ]
    },
    {
      "cell_type": "code",
      "execution_count": 60,
      "metadata": {
        "collapsed": false,
        "pycharm": {}
      },
      "outputs": [
        {
          "data": {
            "image/png": "[encoded data removed]",
            "text/plain": [
              "\u003cmatplotlib.figure.Figure at 0x236195e2b00\u003e"
            ]
          },
          "metadata": {},
          "output_type": "display_data"
        }
      ],
      "source": [
        "plt.figure(num\u003dNone, figsize\u003d(14, 10), dpi\u003d80, facecolor\u003d\u0027w\u0027)\n",
        "plt.title(\"Feature importances\")\n",
        "plt.bar(range(X_train.shape[1]), etr.feature_importances_[indecis],\n",
        "       color\u003d\"r\", align\u003d\"center\")\n",
        "plt.xticks(range(X_train.shape[1]), indecis)\n",
        "plt.show()"
      ]
    }
  ],
  "metadata": {
    "kernelspec": {
      "display_name": "Python 3",
      "language": "python",
      "name": "python3"
    },
    "language_info": {
      "codemirror_mode": {
        "name": "ipython",
        "version": 3
      },
      "file_extension": ".py",
      "mimetype": "text/x-python",
      "name": "python",
      "nbconvert_exporter": "python",
      "pygments_lexer": "ipython3",
      "version": "3.5.3"
    }
  },
  "nbformat": 4,
  "nbformat_minor": 0
}